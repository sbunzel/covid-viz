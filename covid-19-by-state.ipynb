{
 "cells": [
  {
   "cell_type": "markdown",
   "metadata": {},
   "source": [
    "### Setup"
   ]
  },
  {
   "cell_type": "code",
   "execution_count": null,
   "metadata": {
    "ExecuteTime": {
     "end_time": "2020-04-21T06:56:41.826630Z",
     "start_time": "2020-04-21T06:56:41.798443Z"
    }
   },
   "outputs": [],
   "source": [
    "%load_ext autoreload\n",
    "%autoreload 2"
   ]
  },
  {
   "cell_type": "code",
   "execution_count": null,
   "metadata": {
    "ExecuteTime": {
     "end_time": "2020-04-21T06:56:43.834267Z",
     "start_time": "2020-04-21T06:56:42.212357Z"
    }
   },
   "outputs": [],
   "source": [
    "from pathlib import Path\n",
    "\n",
    "import numpy as np\n",
    "import pandas as pd\n",
    "\n",
    "import altair as alt\n",
    "\n",
    "from covidviz import data"
   ]
  },
  {
   "cell_type": "code",
   "execution_count": null,
   "metadata": {
    "ExecuteTime": {
     "end_time": "2020-04-21T06:56:45.221830Z",
     "start_time": "2020-04-21T06:56:45.195321Z"
    }
   },
   "outputs": [],
   "source": [
    "DATA_PATH = Path.cwd() / \"data\"\n",
    "MIN_N_CASES = 50\n",
    "day_counter = f\"days_since_{MIN_N_CASES}_cases\""
   ]
  },
  {
   "cell_type": "markdown",
   "metadata": {},
   "source": [
    "### Data preparation"
   ]
  },
  {
   "cell_type": "markdown",
   "metadata": {},
   "source": [
    "#### Infections"
   ]
  },
  {
   "cell_type": "code",
   "execution_count": null,
   "metadata": {
    "ExecuteTime": {
     "end_time": "2020-04-21T06:56:47.021507Z",
     "start_time": "2020-04-21T06:56:46.996653Z"
    }
   },
   "outputs": [],
   "source": [
    "# Unfortunately, the mopo data seems to be refreshed only once a week at most\n",
    "# mopo = pd.read_csv(\n",
    "#     \"https://interaktiv.morgenpost.de/corona-virus-karte-infektionen-deutschland-weltweit/data/Coronavirus.history.v2.csv\"\n",
    "# ).query(\"parent == 'Deutschland'\")\n",
    "# mopo[\"date\"].max()"
   ]
  },
  {
   "cell_type": "code",
   "execution_count": null,
   "metadata": {
    "ExecuteTime": {
     "end_time": "2020-04-21T06:57:14.681951Z",
     "start_time": "2020-04-21T06:56:48.436196Z"
    }
   },
   "outputs": [],
   "source": [
    "# We'll use the RKI data instead\n",
    "df = data.get_data(\n",
    "    out_path=DATA_PATH,\n",
    "    states=pd.read_csv(DATA_PATH / \"bundeslaender.csv\")[\"Bundesland\"].unique(),\n",
    ")"
   ]
  },
  {
   "cell_type": "code",
   "execution_count": null,
   "metadata": {
    "ExecuteTime": {
     "end_time": "2020-04-21T06:57:26.189945Z",
     "start_time": "2020-04-21T06:57:26.035550Z"
    }
   },
   "outputs": [],
   "source": [
    "daily_infections = df.pipe(data.prepare_daily_infections, n_cases=MIN_N_CASES).pipe(\n",
    "    data.add_measures, measures=data.read_measure_data(DATA_PATH)\n",
    ")"
   ]
  },
  {
   "cell_type": "code",
   "execution_count": null,
   "metadata": {
    "ExecuteTime": {
     "end_time": "2020-04-21T06:57:26.666541Z",
     "start_time": "2020-04-21T06:57:26.612409Z"
    }
   },
   "outputs": [],
   "source": [
    "daily_infections.head(2)"
   ]
  },
  {
   "cell_type": "code",
   "execution_count": null,
   "metadata": {
    "ExecuteTime": {
     "end_time": "2020-04-21T06:57:37.779477Z",
     "start_time": "2020-04-21T06:57:37.750326Z"
    }
   },
   "outputs": [],
   "source": [
    "daily_infections[\"Meldedatum\"].max()"
   ]
  },
  {
   "cell_type": "markdown",
   "metadata": {},
   "source": [
    "#### Google's mobility reports"
   ]
  },
  {
   "cell_type": "code",
   "execution_count": null,
   "metadata": {
    "ExecuteTime": {
     "end_time": "2020-04-21T07:36:29.111517Z",
     "start_time": "2020-04-21T07:36:28.822609Z"
    }
   },
   "outputs": [],
   "source": [
    "mobility = (\n",
    "    pd.read_csv(\n",
    "        DATA_PATH / \"Global_Mobility_Report.csv\",\n",
    "        low_memory=False,\n",
    "        parse_dates=[\"date\"],\n",
    "        infer_datetime_format=True,\n",
    "    )\n",
    "    .query(\"country_region_code == 'DE' and not sub_region_1.isna()\")\n",
    "    .rename(columns={\"sub_region_1\": \"Bundesland\", \"date\": \"Meldedatum\"})\n",
    "    .drop(columns=[\"country_region_code\", \"country_region\", \"sub_region_2\"])\n",
    ")"
   ]
  },
  {
   "cell_type": "code",
   "execution_count": null,
   "metadata": {
    "ExecuteTime": {
     "end_time": "2020-04-21T07:34:06.991253Z",
     "start_time": "2020-04-21T07:34:06.955793Z"
    }
   },
   "outputs": [],
   "source": [
    "# change_cols_mapper = {\n",
    "#     c: c[: c.find(\"percent_change\") - 1] for c in mobility if \"percent_change\" in c\n",
    "# }\n",
    "# mobility_plot = (\n",
    "#     mobility.melt(\n",
    "#         id_vars=[\"sub_region_1\", \"date\"],\n",
    "#         value_vars=list(change_cols_mapper.keys()),\n",
    "#         var_name=\"mobility_category\",\n",
    "#         value_name=\"mobility_percent_change\",\n",
    "#     )\n",
    "#     .assign(\n",
    "#         mobility_category=lambda df: df[\"mobility_category\"].map(change_cols_mapper)\n",
    "#     )\n",
    "#     .rename(columns={\"sub_region_1\": \"Bundesland\", \"date\": \"Meldedatum\"})\n",
    "# )"
   ]
  },
  {
   "cell_type": "markdown",
   "metadata": {},
   "source": [
    "### Visualization"
   ]
  },
  {
   "cell_type": "code",
   "execution_count": null,
   "metadata": {
    "ExecuteTime": {
     "end_time": "2020-04-21T07:52:34.161399Z",
     "start_time": "2020-04-21T07:52:34.102362Z"
    }
   },
   "outputs": [],
   "source": [
    "percentage_change_cols_mapper = {c: c[: c.find(\"percent_change\") - 1].replace(\"_\", \" \").title() for c in mobility.columns if \"percent_change\" in c}\n",
    "\n",
    "plot_df = (\n",
    "    daily_infections.assign(\n",
    "        **{\n",
    "            \"absolute_growth\": lambda df: df.groupby(\"Bundesland\")[\n",
    "                \"infections_cumulative\"\n",
    "            ].transform(lambda s: s.diff()),\n",
    "            \"cases_logratio\": lambda df: df.groupby(\"Bundesland\")[\n",
    "                \"infections_cumulative\"\n",
    "            ].transform(lambda s: np.log(s).diff()),\n",
    "            \"Anzahl Maßnahmen\": lambda df: df[\"Maßnahmen\"].apply(\n",
    "                lambda x: len(x.split(\"und\")) if isinstance(x, str) else 0\n",
    "            ),\n",
    "        }\n",
    "    )\n",
    "    .query(f\"{day_counter} >= 0\")\n",
    "    .merge(\n",
    "        mobility,\n",
    "        on=[\"Bundesland\", \"Meldedatum\"],\n",
    "        how=\"left\",\n",
    "    )\n",
    "    .rename(columns=percentage_change_cols_mapper)\n",
    ")"
   ]
  },
  {
   "cell_type": "code",
   "execution_count": null,
   "metadata": {
    "ExecuteTime": {
     "end_time": "2020-04-21T07:52:34.972582Z",
     "start_time": "2020-04-21T07:52:34.939920Z"
    }
   },
   "outputs": [],
   "source": [
    "plot_df.head()"
   ]
  },
  {
   "cell_type": "code",
   "execution_count": null,
   "metadata": {
    "ExecuteTime": {
     "end_time": "2020-04-21T07:10:00.727801Z",
     "start_time": "2020-04-21T07:10:00.296522Z"
    }
   },
   "outputs": [],
   "source": [
    "X_VARIABLE = \"days_since_50_cases\"\n",
    "Y_VARIABLE = \"daily_increase\"\n",
    "\n",
    "if Y_VARIABLE == \"daily_increase\":\n",
    "    expression = \"pow(E, datum.cases_logratio) - 1\"\n",
    "    y_title = \"Daily Increase in Cumulative Cases\"\n",
    "    y_format = \"%\"\n",
    "    y_domain = (0, 0.9)\n",
    "    measure_level = \"0.85\"\n",
    "    title = \"Daily Increase of COVID-19 Cases in German States\"\n",
    "elif Y_VARIABLE == \"doubling_time\":\n",
    "    expression = \"log(2) / datum.cases_logratio\"\n",
    "    y_title = \"Doubling Time (Days)\"\n",
    "    y_format = \"\"\n",
    "    y_domain = (50, 0)\n",
    "    measure_level = \"45\"\n",
    "    title = \"Doubling Time of COVID-19 Cases in German States\"\n",
    "elif Y_VARIABLE == \"absolute_growth\":\n",
    "    raise NotImplementedError(\"This doesn't work yet.\")\n",
    "    expression = \"datum.absolute_increase\"\n",
    "    y_title = \"Absolute Growth in Cumulative Cases\"\n",
    "    y_format = \"\"\n",
    "    title = \"Absolute Growth of COVID-19 Cases in German States\"\n",
    "else:\n",
    "    raise NotImplementedError(f\"y variable {Y_VARIABLE} is not implemented.\")\n",
    "\n",
    "combined_charts = []\n",
    "line_charts = []\n",
    "for state in plot_df[\"Bundesland\"].unique():\n",
    "    base = alt.Chart(plot_df.query(f\"Bundesland == '{state}'\"), title=state).encode(\n",
    "        x=alt.X(\n",
    "            X_VARIABLE,\n",
    "            axis=alt.Axis(title=X_VARIABLE.replace(\"_\", \" \").title(), offset=5),\n",
    "        ),\n",
    "        y=alt.Y(\"cases_logratio:Q\"),\n",
    "    )\n",
    "    points = (\n",
    "        base.transform_calculate(as_=Y_VARIABLE, calculate=expression)\n",
    "        .mark_point()\n",
    "        .encode(\n",
    "            y=alt.Y(\n",
    "                f\"{Y_VARIABLE}:Q\",\n",
    "                scale=alt.Scale(domain=y_domain),\n",
    "                axis=alt.Axis(format=y_format, title=y_title),\n",
    "            ),\n",
    "            color=\"Bundesland:N\",\n",
    "        )\n",
    "    )\n",
    "    measure_points = (\n",
    "        base.mark_point(size=300, shape=\"diamond\", color=\"grey\", fill=None)\n",
    "        .transform_calculate(y_level=measure_level)\n",
    "        .encode(\n",
    "            y=\"y_level:Q\",\n",
    "            size=alt.Size(\"Anzahl Maßnahmen:Q\"),\n",
    "            tooltip=[\"Meldedatum\", \"Maßnahmen\"],\n",
    "        )\n",
    "        .interactive()\n",
    "    )\n",
    "    lines = (\n",
    "        points.transform_loess(\n",
    "            on=X_VARIABLE,\n",
    "            loess=Y_VARIABLE,\n",
    "            as_=[X_VARIABLE, f\"{Y_VARIABLE}_loess\"],\n",
    "            groupby=[\"Bundesland\"],\n",
    "        )\n",
    "        .mark_line()\n",
    "        .encode(\n",
    "            y=alt.Y(\n",
    "                f\"{Y_VARIABLE}_loess:Q\",\n",
    "                scale=alt.Scale(domain=y_domain),\n",
    "                axis=alt.Axis(format=y_format, title=y_title),\n",
    "            ),\n",
    "            tooltip=[X_VARIABLE],\n",
    "        )\n",
    "    )\n",
    "    line_charts.append(lines.properties(width=900, height=300, title=title))\n",
    "    combined_charts.append(\n",
    "        (points + measure_points + lines).properties(width=900, height=300)\n",
    "    )"
   ]
  },
  {
   "cell_type": "code",
   "execution_count": null,
   "metadata": {
    "ExecuteTime": {
     "end_time": "2020-04-21T07:10:08.575466Z",
     "start_time": "2020-04-21T07:10:08.231475Z"
    },
    "scrolled": true
   },
   "outputs": [],
   "source": [
    "alt.layer(*line_charts)"
   ]
  },
  {
   "cell_type": "code",
   "execution_count": null,
   "metadata": {
    "ExecuteTime": {
     "end_time": "2020-04-21T07:10:15.734328Z",
     "start_time": "2020-04-21T07:10:15.408490Z"
    },
    "scrolled": true
   },
   "outputs": [],
   "source": [
    "alt.vconcat(*combined_charts)"
   ]
  },
  {
   "cell_type": "markdown",
   "metadata": {},
   "source": [
    "#### Absolute growth"
   ]
  },
  {
   "cell_type": "code",
   "execution_count": null,
   "metadata": {
    "ExecuteTime": {
     "end_time": "2020-04-21T07:53:33.488056Z",
     "start_time": "2020-04-21T07:53:33.465665Z"
    }
   },
   "outputs": [],
   "source": [
    "X_VARIABLE = \"days_since_50_cases\"\n",
    "Y_VARIABLE = \"absolute_growth\"\n",
    "y_title = \"Absolute Growth in Cumulative Cases\"\n",
    "y_format = \"\"\n",
    "title = \"Absolute Growth of COVID-19 Cases in German States\""
   ]
  },
  {
   "cell_type": "code",
   "execution_count": null,
   "metadata": {},
   "outputs": [],
   "source": [
    "combined_charts = []\n",
    "line_charts = []\n",
    "for state in plot_df[\"Bundesland\"].unique():\n",
    "\n",
    "    base = alt.Chart(plot_df.query(f\"Bundesland == '{state}'\"), title=state).encode(\n",
    "        x=alt.X(\n",
    "            X_VARIABLE, axis=alt.Axis(title=X_VARIABLE.replace(\"_\", \" \").title(), offset=5)\n",
    "        ),\n",
    "        y=alt.Y(f\"{Y_VARIABLE}:Q\"),\n",
    "    )\n",
    "    points = base.mark_point().encode(y=alt.Y(f\"{Y_VARIABLE}:Q\"), color=\"Bundesland:N\")\n",
    "    measure_points = (\n",
    "        base.mark_point(size=600, shape=\"diamond\", color=\"grey\", fill=None)\n",
    "        .transform_calculate(y_level=\"0\")\n",
    "        .encode(\n",
    "            y=\"y_level:Q\",\n",
    "            size=alt.Size(\"Anzahl Maßnahmen:Q\"),\n",
    "            tooltip=[\"Meldedatum\", \"Maßnahmen\"],\n",
    "        )\n",
    "        .interactive()\n",
    "    )\n",
    "    lines = (\n",
    "        points.transform_loess(\n",
    "            on=X_VARIABLE,\n",
    "            loess=Y_VARIABLE,\n",
    "            as_=[X_VARIABLE, f\"{Y_VARIABLE}_loess\"],\n",
    "            groupby=[\"Bundesland\"],\n",
    "        )\n",
    "        .mark_line()\n",
    "        .encode(\n",
    "            y=alt.Y(f\"{Y_VARIABLE}_loess:Q\", axis=alt.Axis(format=\"\", title=y_title)),\n",
    "            tooltip=[X_VARIABLE],\n",
    "        )\n",
    "    )\n",
    "    combined_charts.append(\n",
    "        (points + measure_points + lines).properties(width=900, height=300)\n",
    "    )"
   ]
  },
  {
   "cell_type": "code",
   "execution_count": null,
   "metadata": {},
   "outputs": [],
   "source": [
    "alt.vconcat(*combined_charts)"
   ]
  },
  {
   "cell_type": "markdown",
   "metadata": {},
   "source": [
    "##### Adding the mobility data"
   ]
  },
  {
   "cell_type": "code",
   "execution_count": null,
   "metadata": {
    "ExecuteTime": {
     "end_time": "2020-04-21T07:53:35.123375Z",
     "start_time": "2020-04-21T07:53:35.065959Z"
    }
   },
   "outputs": [],
   "source": [
    "state = \"Baden-Württemberg\"\n",
    "base = alt.Chart(plot_df.query(f\"Bundesland == '{state}'\"), title=state).encode(\n",
    "    x=alt.X(\n",
    "        X_VARIABLE, axis=alt.Axis(title=X_VARIABLE.replace(\"_\", \" \").title(), offset=5)\n",
    "    ),\n",
    "    y=alt.Y(f\"{Y_VARIABLE}:Q\"),\n",
    ")\n",
    "points = base.mark_point().encode(y=alt.Y(f\"{Y_VARIABLE}:Q\"), color=\"Bundesland:N\")\n",
    "measure_points = (\n",
    "    base.mark_point(size=600, shape=\"diamond\", color=\"grey\", fill=None)\n",
    "    .transform_calculate(y_level=\"0\")\n",
    "    .encode(\n",
    "        y=\"y_level:Q\",\n",
    "        size=alt.Size(\"Anzahl Maßnahmen:Q\"),\n",
    "        tooltip=[\"Meldedatum\", \"Maßnahmen\"],\n",
    "    )\n",
    "    .interactive()\n",
    ")\n",
    "lines = (\n",
    "    points.transform_loess(\n",
    "        on=X_VARIABLE,\n",
    "        loess=Y_VARIABLE,\n",
    "        as_=[X_VARIABLE, f\"{Y_VARIABLE}_loess\"],\n",
    "        groupby=[\"Bundesland\"],\n",
    "    )\n",
    "    .mark_line()\n",
    "    .encode(\n",
    "        y=alt.Y(f\"{Y_VARIABLE}_loess:Q\", axis=alt.Axis(format=\"\", title=y_title)),\n",
    "        tooltip=[X_VARIABLE],\n",
    "    )\n",
    ")\n",
    "activity = (\n",
    "    base.mark_area()\n",
    "    .transform_fold(\n",
    "        fold=list(percentage_change_cols_mapper.values()),\n",
    "        as_=[\"Mobility Category\", \"mobility_change_percent\"],\n",
    "    )\n",
    "    .transform_calculate(\n",
    "        as_=\"Mobility Change\", calculate=\"datum.mobility_change_percent / 100\"\n",
    "    )\n",
    "    .encode(\n",
    "        y=alt.Y(\"Mobility Change:Q\", axis=alt.Axis(format=\"%\")),\n",
    "        color=\"Mobility Category:N\",\n",
    "    )\n",
    ")"
   ]
  },
  {
   "cell_type": "code",
   "execution_count": null,
   "metadata": {
    "ExecuteTime": {
     "end_time": "2020-04-21T08:05:30.162331Z",
     "start_time": "2020-04-21T08:05:30.094068Z"
    }
   },
   "outputs": [],
   "source": [
    "alt.layer((points + measure_points + lines), activity).resolve_scale(\n",
    "    y=\"independent\"\n",
    ").properties(width=900, height=300)"
   ]
  },
  {
   "cell_type": "markdown",
   "metadata": {
    "heading_collapsed": true
   },
   "source": [
    "### Experiments"
   ]
  },
  {
   "cell_type": "code",
   "execution_count": null,
   "metadata": {
    "ExecuteTime": {
     "end_time": "2020-04-06T17:22:11.555365Z",
     "start_time": "2020-04-06T17:22:11.501378Z"
    },
    "hidden": true
   },
   "outputs": [],
   "source": [
    "# day_markers = (\n",
    "#     base.transform_calculate(\n",
    "#         as_=\"doubling_time\", calculate=\"log(2) / datum.cases_logratio\"\n",
    "#     )\n",
    "#     .mark_point(clip=True, color=\"green\")\n",
    "#     .encode(\n",
    "#         y=alt.Y(\n",
    "#             \"doubling_time:Q\",\n",
    "#             scale=alt.Scale(domain=(21, 0)),\n",
    "#             axis=alt.Axis(\n",
    "#                 title=\"Doubling Time (Days)\",\n",
    "#                 grid=True,\n",
    "#                 gridColor=\"grey\",\n",
    "#                 gridWidth=0.75,\n",
    "#                 orient=\"right\",\n",
    "#                 values=[2, 3, 4, 5, 6, 7, 14, 21],\n",
    "#             ),\n",
    "#         )\n",
    "#     )\n",
    "# )\n",
    "# day_markers"
   ]
  },
  {
   "cell_type": "code",
   "execution_count": null,
   "metadata": {
    "hidden": true
   },
   "outputs": [],
   "source": []
  }
 ],
 "metadata": {
  "kernelspec": {
   "display_name": "Python [conda env:ds-base]",
   "language": "python",
   "name": "conda-env-ds-base-py"
  },
  "language_info": {
   "codemirror_mode": {
    "name": "ipython",
    "version": 3
   },
   "file_extension": ".py",
   "mimetype": "text/x-python",
   "name": "python",
   "nbconvert_exporter": "python",
   "pygments_lexer": "ipython3",
   "version": "3.7.3"
  },
  "toc": {
   "base_numbering": 1,
   "nav_menu": {},
   "number_sections": true,
   "sideBar": true,
   "skip_h1_title": false,
   "title_cell": "Table of Contents",
   "title_sidebar": "Contents",
   "toc_cell": false,
   "toc_position": {},
   "toc_section_display": true,
   "toc_window_display": false
  }
 },
 "nbformat": 4,
 "nbformat_minor": 4
}
