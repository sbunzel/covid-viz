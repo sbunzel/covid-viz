{
 "cells": [
  {
   "cell_type": "markdown",
   "metadata": {},
   "source": [
    "### Setup"
   ]
  },
  {
   "cell_type": "code",
   "execution_count": null,
   "metadata": {
    "ExecuteTime": {
     "end_time": "2020-04-22T21:15:43.505577Z",
     "start_time": "2020-04-22T21:15:43.479266Z"
    }
   },
   "outputs": [],
   "source": [
    "%load_ext autoreload\n",
    "%autoreload 2"
   ]
  },
  {
   "cell_type": "code",
   "execution_count": null,
   "metadata": {
    "ExecuteTime": {
     "end_time": "2020-04-22T21:15:44.273101Z",
     "start_time": "2020-04-22T21:15:43.508633Z"
    }
   },
   "outputs": [],
   "source": [
    "from pathlib import Path\n",
    "\n",
    "import numpy as np\n",
    "import pandas as pd\n",
    "\n",
    "import altair as alt\n",
    "\n",
    "from covidviz import data"
   ]
  },
  {
   "cell_type": "code",
   "execution_count": null,
   "metadata": {
    "ExecuteTime": {
     "end_time": "2020-04-22T21:15:44.299284Z",
     "start_time": "2020-04-22T21:15:44.275707Z"
    }
   },
   "outputs": [],
   "source": [
    "DATA_PATH = Path.cwd() / \"data\"\n",
    "MIN_N_CASES = 50\n",
    "day_counter = f\"days_since_{MIN_N_CASES}_cases\""
   ]
  },
  {
   "cell_type": "markdown",
   "metadata": {},
   "source": [
    "### Data preparation"
   ]
  },
  {
   "cell_type": "markdown",
   "metadata": {},
   "source": [
    "#### Infections"
   ]
  },
  {
   "cell_type": "code",
   "execution_count": null,
   "metadata": {
    "ExecuteTime": {
     "end_time": "2020-04-22T21:15:44.330466Z",
     "start_time": "2020-04-22T21:15:44.302698Z"
    }
   },
   "outputs": [],
   "source": [
    "# Unfortunately, the mopo data seems to be refreshed only once a week at most\n",
    "# mopo = pd.read_csv(\n",
    "#     \"https://interaktiv.morgenpost.de/corona-virus-karte-infektionen-deutschland-weltweit/data/Coronavirus.history.v2.csv\"\n",
    "# ).query(\"parent == 'Deutschland'\")\n",
    "# mopo[\"date\"].max()"
   ]
  },
  {
   "cell_type": "code",
   "execution_count": null,
   "metadata": {
    "ExecuteTime": {
     "end_time": "2020-04-22T21:15:44.418378Z",
     "start_time": "2020-04-22T21:15:44.333050Z"
    }
   },
   "outputs": [],
   "source": [
    "# We'll use the RKI data instead\n",
    "df = data.get_data(\n",
    "    out_path=DATA_PATH,\n",
    "    states=pd.read_csv(DATA_PATH / \"bundeslaender.csv\")[\"Bundesland\"].unique(),\n",
    ")"
   ]
  },
  {
   "cell_type": "code",
   "execution_count": null,
   "metadata": {
    "ExecuteTime": {
     "end_time": "2020-04-22T21:15:44.563084Z",
     "start_time": "2020-04-22T21:15:44.422115Z"
    }
   },
   "outputs": [],
   "source": [
    "daily_infections = df.pipe(data.prepare_daily_infections, n_cases=MIN_N_CASES).pipe(\n",
    "    data.add_measures, measures=data.read_measure_data(DATA_PATH)\n",
    ")"
   ]
  },
  {
   "cell_type": "code",
   "execution_count": null,
   "metadata": {
    "ExecuteTime": {
     "end_time": "2020-04-22T21:15:44.602583Z",
     "start_time": "2020-04-22T21:15:44.564959Z"
    }
   },
   "outputs": [],
   "source": [
    "daily_infections.head(2)"
   ]
  },
  {
   "cell_type": "code",
   "execution_count": null,
   "metadata": {
    "ExecuteTime": {
     "end_time": "2020-04-22T21:15:44.639820Z",
     "start_time": "2020-04-22T21:15:44.605643Z"
    }
   },
   "outputs": [],
   "source": [
    "daily_infections.groupby(\"Bundesland\")[\"Meldedatum\"].min()"
   ]
  },
  {
   "cell_type": "markdown",
   "metadata": {},
   "source": [
    "#### Google's mobility reports"
   ]
  },
  {
   "cell_type": "code",
   "execution_count": null,
   "metadata": {
    "ExecuteTime": {
     "end_time": "2020-04-22T21:15:44.673181Z",
     "start_time": "2020-04-22T21:15:44.642257Z"
    }
   },
   "outputs": [],
   "source": [
    "STATE_MAPPER = {\n",
    "    \"Baden-Württemberg\": \"Baden-Württemberg\",\n",
    "    \"Bavaria\": \"Bayern\",\n",
    "    \"Berlin\": \"Berlin\",\n",
    "    \"Brandenburg\": \"Brandenburg\",\n",
    "    \"Bremen\": \"Bremen\",\n",
    "    \"Hamburg\": \"Hamburg\",\n",
    "    \"Hesse\": \"Hessen\",\n",
    "    \"Lower Saxony\": \"Niedersachsen\",\n",
    "    \"Mecklenburg-Vorpommern\": \"Mecklenburg-Vorpommern\",\n",
    "    \"North Rhine-Westphalia\": \"Nordrhein-Westfalen\",\n",
    "    \"Rhineland-Palatinate\": \"Rheinland-Pfalz\",\n",
    "    \"Saarland\": \"Saarland\",\n",
    "    \"Saxony\": \"Sachsen\",\n",
    "    \"Saxony-Anhalt\": \"Sachsen-Anhalt\",\n",
    "    \"Schleswig-Holstein\": \"Schleswig-Holstein\",\n",
    "    \"Thuringia\": \"Thüringen\",\n",
    "}"
   ]
  },
  {
   "cell_type": "code",
   "execution_count": null,
   "metadata": {
    "ExecuteTime": {
     "end_time": "2020-04-22T21:15:45.031965Z",
     "start_time": "2020-04-22T21:15:44.676463Z"
    }
   },
   "outputs": [],
   "source": [
    "mobility = (\n",
    "    pd.read_csv(\n",
    "        DATA_PATH / \"Global_Mobility_Report.csv\",\n",
    "        low_memory=False,\n",
    "        parse_dates=[\"date\"],\n",
    "        infer_datetime_format=True,\n",
    "    )\n",
    "    .query(\"country_region_code == 'DE' and not sub_region_1.isna()\")\n",
    "    .rename(columns={\"sub_region_1\": \"Bundesland\", \"date\": \"Meldedatum\"})\n",
    "    .drop(columns=[\"country_region_code\", \"country_region\", \"sub_region_2\"])\n",
    "    .assign(Bundesland=lambda df: df[\"Bundesland\"].map(STATE_MAPPER))\n",
    ")"
   ]
  },
  {
   "cell_type": "code",
   "execution_count": null,
   "metadata": {
    "ExecuteTime": {
     "end_time": "2020-04-22T21:15:45.060339Z",
     "start_time": "2020-04-22T21:15:45.034919Z"
    }
   },
   "outputs": [],
   "source": [
    "mobility.groupby(\"Bundesland\")[\"Meldedatum\"].min()"
   ]
  },
  {
   "cell_type": "markdown",
   "metadata": {},
   "source": [
    "### Visualization"
   ]
  },
  {
   "cell_type": "code",
   "execution_count": null,
   "metadata": {
    "ExecuteTime": {
     "end_time": "2020-04-22T21:15:45.124367Z",
     "start_time": "2020-04-22T21:15:45.063187Z"
    }
   },
   "outputs": [],
   "source": [
    "percentage_change_cols_mapper = {\n",
    "    c: c[: c.find(\"percent_change\") - 1].replace(\"_\", \" \").title()\n",
    "    for c in mobility.columns\n",
    "    if \"percent_change\" in c\n",
    "}\n",
    "\n",
    "plot_df = (\n",
    "    daily_infections.assign(\n",
    "        **{\n",
    "            \"absolute_growth\": lambda df: df.groupby(\"Bundesland\")[\n",
    "                \"infections_cumulative\"\n",
    "            ].transform(lambda s: s.diff()),\n",
    "            \"cases_logratio\": lambda df: df.groupby(\"Bundesland\")[\n",
    "                \"infections_cumulative\"\n",
    "            ].transform(lambda s: np.log(s).diff()),\n",
    "            \"num_measures\": lambda df: df[\"Maßnahmen\"].apply(\n",
    "                lambda x: len(x.split(\"und\")) if isinstance(x, str) else 0\n",
    "            ),\n",
    "        }\n",
    "    )\n",
    "    .merge(mobility, on=[\"Bundesland\", \"Meldedatum\"], how=\"outer\")\n",
    "    # .query(f\"{day_counter} >= 0\")\n",
    "    .query(\"Meldedatum >= '2020-03-01'\")\n",
    "    .rename(columns=percentage_change_cols_mapper)\n",
    ")"
   ]
  },
  {
   "cell_type": "code",
   "execution_count": null,
   "metadata": {
    "ExecuteTime": {
     "end_time": "2020-04-22T21:15:45.163553Z",
     "start_time": "2020-04-22T21:15:45.126018Z"
    }
   },
   "outputs": [],
   "source": [
    "plot_df.head()"
   ]
  },
  {
   "cell_type": "markdown",
   "metadata": {
    "heading_collapsed": true
   },
   "source": [
    "#### Relative increase"
   ]
  },
  {
   "cell_type": "code",
   "execution_count": null,
   "metadata": {
    "ExecuteTime": {
     "end_time": "2020-04-22T21:15:45.565881Z",
     "start_time": "2020-04-22T21:15:45.166550Z"
    },
    "hidden": true
   },
   "outputs": [],
   "source": [
    "X_VARIABLE = \"days_since_50_cases\"\n",
    "Y_VARIABLE = \"daily_increase\"\n",
    "\n",
    "if Y_VARIABLE == \"daily_increase\":\n",
    "    expression = \"pow(E, datum.cases_logratio) - 1\"\n",
    "    y_title = \"Daily Increase in Cumulative Cases\"\n",
    "    y_format = \"%\"\n",
    "    y_domain = (0, 0.9)\n",
    "    measure_level = \"0.85\"\n",
    "    title = \"Daily Increase of COVID-19 Cases in German States\"\n",
    "elif Y_VARIABLE == \"doubling_time\":\n",
    "    expression = \"log(2) / datum.cases_logratio\"\n",
    "    y_title = \"Doubling Time (Days)\"\n",
    "    y_format = \"\"\n",
    "    y_domain = (50, 0)\n",
    "    measure_level = \"45\"\n",
    "    title = \"Doubling Time of COVID-19 Cases in German States\"\n",
    "elif Y_VARIABLE == \"absolute_growth\":\n",
    "    raise NotImplementedError(\"This doesn't work yet.\")\n",
    "    expression = \"datum.absolute_increase\"\n",
    "    y_title = \"Absolute Growth in Cumulative Cases\"\n",
    "    y_format = \"\"\n",
    "    title = \"Absolute Growth of COVID-19 Cases in German States\"\n",
    "else:\n",
    "    raise NotImplementedError(f\"y variable {Y_VARIABLE} is not implemented.\")\n",
    "\n",
    "combined_charts = []\n",
    "line_charts = []\n",
    "for state in plot_df[\"Bundesland\"].unique():\n",
    "    base = alt.Chart(plot_df.query(f\"Bundesland == '{state}'\"), title=state).encode(\n",
    "        x=alt.X(\n",
    "            X_VARIABLE,\n",
    "            axis=alt.Axis(title=X_VARIABLE.replace(\"_\", \" \").title(), offset=5),\n",
    "        ),\n",
    "        y=alt.Y(\"cases_logratio:Q\"),\n",
    "    )\n",
    "    points = (\n",
    "        base.transform_calculate(as_=Y_VARIABLE, calculate=expression)\n",
    "        .mark_point()\n",
    "        .encode(\n",
    "            y=alt.Y(\n",
    "                f\"{Y_VARIABLE}:Q\",\n",
    "                scale=alt.Scale(domain=y_domain),\n",
    "                axis=alt.Axis(format=y_format, title=y_title),\n",
    "            ),\n",
    "            color=\"Bundesland:N\",\n",
    "        )\n",
    "    )\n",
    "    measure_points = (\n",
    "        base.mark_point(size=300, shape=\"diamond\", color=\"grey\", fill=None)\n",
    "        .transform_calculate(y_level=measure_level)\n",
    "        .encode(\n",
    "            y=\"y_level:Q\",\n",
    "            size=alt.Size(\"Anzahl Maßnahmen:Q\"),\n",
    "            tooltip=[\"Meldedatum\", \"Maßnahmen\"],\n",
    "        )\n",
    "        .interactive()\n",
    "    )\n",
    "    lines = (\n",
    "        points.transform_loess(\n",
    "            on=X_VARIABLE,\n",
    "            loess=Y_VARIABLE,\n",
    "            as_=[X_VARIABLE, f\"{Y_VARIABLE}_loess\"],\n",
    "            groupby=[\"Bundesland\"],\n",
    "        )\n",
    "        .mark_line()\n",
    "        .encode(\n",
    "            y=alt.Y(\n",
    "                f\"{Y_VARIABLE}_loess:Q\",\n",
    "                scale=alt.Scale(domain=y_domain),\n",
    "                axis=alt.Axis(format=y_format, title=y_title),\n",
    "            ),\n",
    "            tooltip=[X_VARIABLE],\n",
    "        )\n",
    "    )\n",
    "    line_charts.append(lines.properties(width=900, height=300, title=title))\n",
    "    combined_charts.append(\n",
    "        (points + measure_points + lines).properties(width=900, height=300)\n",
    "    )"
   ]
  },
  {
   "cell_type": "code",
   "execution_count": null,
   "metadata": {
    "ExecuteTime": {
     "end_time": "2020-04-22T21:15:45.988940Z",
     "start_time": "2020-04-22T21:15:45.567908Z"
    },
    "hidden": true,
    "scrolled": false
   },
   "outputs": [],
   "source": [
    "alt.layer(*line_charts)"
   ]
  },
  {
   "cell_type": "code",
   "execution_count": null,
   "metadata": {
    "ExecuteTime": {
     "end_time": "2020-04-22T21:15:46.512762Z",
     "start_time": "2020-04-22T21:15:45.990704Z"
    },
    "hidden": true,
    "scrolled": true
   },
   "outputs": [],
   "source": [
    "alt.vconcat(*combined_charts)"
   ]
  },
  {
   "cell_type": "markdown",
   "metadata": {
    "heading_collapsed": true
   },
   "source": [
    "#### Absolute increase"
   ]
  },
  {
   "cell_type": "code",
   "execution_count": null,
   "metadata": {
    "ExecuteTime": {
     "end_time": "2020-04-22T21:15:46.539323Z",
     "start_time": "2020-04-22T21:15:46.514642Z"
    },
    "hidden": true
   },
   "outputs": [],
   "source": [
    "X_VARIABLE = \"days_since_50_cases\"\n",
    "Y_VARIABLE = \"absolute_growth\"\n",
    "y_title = \"Absolute Growth in Cumulative Cases\"\n",
    "y_format = \"\"\n",
    "title = \"Absolute Growth of COVID-19 Cases in German States\""
   ]
  },
  {
   "cell_type": "code",
   "execution_count": null,
   "metadata": {
    "ExecuteTime": {
     "end_time": "2020-04-22T21:15:47.012750Z",
     "start_time": "2020-04-22T21:15:46.544065Z"
    },
    "hidden": true
   },
   "outputs": [],
   "source": [
    "combined_charts = []\n",
    "line_charts = []\n",
    "for state in plot_df[\"Bundesland\"].unique():\n",
    "\n",
    "    base = alt.Chart(plot_df.query(f\"Bundesland == '{state}'\"), title=state).encode(\n",
    "        x=alt.X(\n",
    "            X_VARIABLE, axis=alt.Axis(title=X_VARIABLE.replace(\"_\", \" \").title(), offset=5)\n",
    "        ),\n",
    "        y=alt.Y(f\"{Y_VARIABLE}:Q\"),\n",
    "    )\n",
    "    points = base.mark_point().encode(y=alt.Y(f\"{Y_VARIABLE}:Q\"), color=\"Bundesland:N\")\n",
    "    measure_points = (\n",
    "        base.mark_point(size=600, shape=\"diamond\", color=\"grey\", fill=None)\n",
    "        .transform_calculate(y_level=\"0\")\n",
    "        .encode(\n",
    "            y=\"y_level:Q\",\n",
    "            size=alt.Size(\"Anzahl Maßnahmen:Q\"),\n",
    "            tooltip=[\"Meldedatum\", \"Maßnahmen\"],\n",
    "        )\n",
    "        .interactive()\n",
    "    )\n",
    "    lines = (\n",
    "        points.transform_loess(\n",
    "            on=X_VARIABLE,\n",
    "            loess=Y_VARIABLE,\n",
    "            as_=[X_VARIABLE, f\"{Y_VARIABLE}_loess\"],\n",
    "            groupby=[\"Bundesland\"],\n",
    "        )\n",
    "        .mark_line()\n",
    "        .encode(\n",
    "            y=alt.Y(f\"{Y_VARIABLE}_loess:Q\", axis=alt.Axis(format=\"\", title=y_title)),\n",
    "            tooltip=[X_VARIABLE],\n",
    "        )\n",
    "    )\n",
    "    combined_charts.append(\n",
    "        (points + measure_points + lines).properties(width=900, height=300)\n",
    "    )"
   ]
  },
  {
   "cell_type": "code",
   "execution_count": null,
   "metadata": {
    "ExecuteTime": {
     "end_time": "2020-04-22T21:15:47.895173Z",
     "start_time": "2020-04-22T21:15:47.015264Z"
    },
    "hidden": true,
    "scrolled": true
   },
   "outputs": [],
   "source": [
    "alt.vconcat(*combined_charts)"
   ]
  },
  {
   "cell_type": "markdown",
   "metadata": {},
   "source": [
    "#### Absolute increase + mobility data"
   ]
  },
  {
   "cell_type": "code",
   "execution_count": null,
   "metadata": {
    "ExecuteTime": {
     "end_time": "2020-04-22T21:15:48.716113Z",
     "start_time": "2020-04-22T21:15:47.897785Z"
    }
   },
   "outputs": [],
   "source": [
    "X_VARIABLE = \"Meldedatum\"\n",
    "combined_charts = []\n",
    "line_charts = []\n",
    "\n",
    "activity_fields = plot_df[list(percentage_change_cols_mapper.values())]\n",
    "max_activity = (\n",
    "    max(\n",
    "        abs(activity_fields[activity_fields < 0].sum(axis=1).min()),\n",
    "        abs(activity_fields[activity_fields > 0].sum(axis=1).max()),\n",
    "    )\n",
    "    // 50\n",
    "    + 1\n",
    ") * 0.5\n",
    "\n",
    "for state in plot_df[\"Bundesland\"].unique():\n",
    "    base = alt.Chart(plot_df.query(f\"Bundesland == '{state}'\"), title=state).encode(\n",
    "        x=alt.X(\n",
    "            X_VARIABLE,\n",
    "            axis=alt.Axis(title=X_VARIABLE.replace(\"_\", \" \").title(), offset=5),\n",
    "        ),\n",
    "        y=alt.Y(f\"{Y_VARIABLE}:Q\"),\n",
    "    )\n",
    "    points = base.mark_point(color=\"DarkSlateBlue\").encode(\n",
    "        y=alt.Y(f\"{Y_VARIABLE}:Q\"), tooltip=list(set([\"Meldedatum\", X_VARIABLE]))\n",
    "    )\n",
    "    measure_points = (\n",
    "        base.mark_point(\n",
    "            size=400, shape=\"diamond\", color=\"DarkSlateGrey\", fill=\"DarkSlateGrey\"\n",
    "        )\n",
    "        .transform_calculate(y_level=\"0\")\n",
    "        .encode(y=\"y_level:Q\", tooltip=[\"Meldedatum\", \"Maßnahmen\"])\n",
    "        .transform_filter(\"datum.num_measures > 0\")\n",
    "    )\n",
    "    lines = (\n",
    "        points.transform_loess(\n",
    "            on=X_VARIABLE,\n",
    "            loess=Y_VARIABLE,\n",
    "            as_=[X_VARIABLE, f\"{Y_VARIABLE}_loess\"],\n",
    "            groupby=[\"Bundesland\"],\n",
    "        )\n",
    "        .mark_line(color=\"DarkSlateBlue\")\n",
    "        .encode(\n",
    "            y=alt.Y(f\"{Y_VARIABLE}_loess:Q\", axis=alt.Axis(format=\"\", title=y_title))\n",
    "        )\n",
    "    )\n",
    "    activity = (\n",
    "        base.mark_area()\n",
    "        .transform_fold(\n",
    "            fold=list(percentage_change_cols_mapper.values()),\n",
    "            as_=[\"Mobility Category\", \"mobility_change_percent\"],\n",
    "        )\n",
    "        .transform_calculate(\n",
    "            as_=\"Mobility Change\", calculate=\"datum.mobility_change_percent / 100\"\n",
    "        )\n",
    "        .encode(\n",
    "            y=alt.Y(\n",
    "                \"Mobility Change:Q\",\n",
    "                axis=alt.Axis(format=\"%\", orient=\"right\"),\n",
    "                scale=alt.Scale(domain=(-max_activity, max_activity)),\n",
    "            ),\n",
    "            color=alt.Color(\"Mobility Category:N\", scale=alt.Scale(scheme=\"blues\")),\n",
    "            opacity=alt.value(0.5),\n",
    "        )\n",
    "    )\n",
    "    combined_charts.append(\n",
    "        (activity + (points + measure_points + lines))\n",
    "        .resolve_scale(y=\"independent\")\n",
    "        .properties(width=900, height=300)\n",
    "    )"
   ]
  },
  {
   "cell_type": "code",
   "execution_count": null,
   "metadata": {
    "ExecuteTime": {
     "end_time": "2020-04-22T21:15:49.405714Z",
     "start_time": "2020-04-22T21:15:48.720752Z"
    },
    "scrolled": true
   },
   "outputs": [],
   "source": [
    "alt.vconcat(*combined_charts)"
   ]
  },
  {
   "cell_type": "markdown",
   "metadata": {},
   "source": [
    "#### Experiment with adding interactivity to the activity data"
   ]
  },
  {
   "cell_type": "code",
   "execution_count": null,
   "metadata": {
    "ExecuteTime": {
     "end_time": "2020-04-22T21:15:49.434605Z",
     "start_time": "2020-04-22T21:15:49.407875Z"
    }
   },
   "outputs": [],
   "source": [
    "plot_df[\"total_activity\"] = activity_fields.sum(axis=1) / 100"
   ]
  },
  {
   "cell_type": "code",
   "execution_count": null,
   "metadata": {
    "ExecuteTime": {
     "end_time": "2020-04-22T21:22:19.458782Z",
     "start_time": "2020-04-22T21:22:18.609930Z"
    }
   },
   "outputs": [],
   "source": [
    "combined_charts = []\n",
    "\n",
    "for state in plot_df[\"Bundesland\"].unique():\n",
    "    # Infection data\n",
    "    base = alt.Chart(\n",
    "        plot_df.query(f\"Bundesland == '{state}'\"),\n",
    "        title=f\"{state}: Infections and Aggregate Mobility\",\n",
    "    ).encode(\n",
    "        x=alt.X(\n",
    "            X_VARIABLE,\n",
    "            axis=alt.Axis(title=X_VARIABLE.replace(\"_\", \" \").title(), offset=5),\n",
    "        ),\n",
    "        y=alt.Y(f\"{Y_VARIABLE}:Q\"),\n",
    "    )\n",
    "    points = base.mark_point(color=\"DarkSlateBlue\").encode(\n",
    "        y=alt.Y(f\"{Y_VARIABLE}:Q\"), tooltip=list(set([\"Meldedatum\", X_VARIABLE]))\n",
    "    )\n",
    "    measure_points = (\n",
    "        base.mark_point(size=400, shape=\"diamond\", color=\"#125ca4\", fill=\"#125ca4\")\n",
    "        .transform_calculate(y_level=\"0\")\n",
    "        .encode(y=\"y_level:Q\", tooltip=[\"Meldedatum\", \"Maßnahmen\"])\n",
    "        .transform_filter(\"datum.num_measures > 0\")\n",
    "    )\n",
    "    lines = (\n",
    "        points.transform_loess(\n",
    "            on=X_VARIABLE,\n",
    "            loess=Y_VARIABLE,\n",
    "            as_=[X_VARIABLE, f\"{Y_VARIABLE}_loess\"],\n",
    "            groupby=[\"Bundesland\"],\n",
    "        )\n",
    "        .mark_line(color=\"DarkSlateBlue\")\n",
    "        .encode(\n",
    "            y=alt.Y(f\"{Y_VARIABLE}_loess:Q\", axis=alt.Axis(format=\"\", title=y_title))\n",
    "        )\n",
    "    )\n",
    "    total_activity = base.mark_area(color=\"#5ba3cf\").encode(\n",
    "        y=alt.Y(\n",
    "            \"total_activity:Q\",\n",
    "            axis=alt.Axis(format=\"%\", orient=\"right\", title=\"Google Mobility Index\"),\n",
    "            scale=alt.Scale(domain=(-max_activity, max_activity)),\n",
    "        ),\n",
    "        opacity=alt.value(0.2),\n",
    "    )\n",
    "\n",
    "    # Detailed activity data\n",
    "    selection = alt.selection_multi(fields=[\"Mobility Category\"])\n",
    "    color = alt.condition(\n",
    "        selection,\n",
    "        alt.Color(\"Mobility Category:N\", scale=alt.Scale(scheme=\"blues\"), legend=None),\n",
    "        alt.value(\"lightgray\"),\n",
    "    )\n",
    "\n",
    "    activity_base = (\n",
    "        alt.Chart(\n",
    "            plot_df.query(f\"Bundesland == '{state}'\"),\n",
    "            title=f\"{state}: Detailed Mobility Report\",\n",
    "        )\n",
    "        .transform_fold(\n",
    "            fold=list(percentage_change_cols_mapper.values()),\n",
    "            as_=[\"Mobility Category\", \"mobility_change_percent\"],\n",
    "        )\n",
    "        .transform_calculate(\n",
    "            as_=\"Google Mobility Index\", calculate=\"datum.mobility_change_percent / 100\"\n",
    "        )\n",
    "    )\n",
    "\n",
    "    activity = activity_base.mark_area().encode(\n",
    "        x=alt.X(\n",
    "            X_VARIABLE,\n",
    "            axis=alt.Axis(title=X_VARIABLE.replace(\"_\", \" \").title(), offset=5),\n",
    "        ),\n",
    "        y=alt.Y(\n",
    "            \"Google Mobility Index:Q\",\n",
    "            axis=alt.Axis(format=\"%\", orient=\"right\"),\n",
    "            scale=alt.Scale(domain=(-max_activity, max_activity)),\n",
    "        ),\n",
    "        color=color,\n",
    "        opacity=alt.value(0.8),\n",
    "    )\n",
    "\n",
    "    legend = (\n",
    "        activity_base.mark_point()\n",
    "        .encode(\n",
    "            y=alt.Y(\n",
    "                \"Mobility Category:N\",\n",
    "                axis=alt.Axis(orient=\"right\"),\n",
    "                title=\"Click to select\",\n",
    "            ),\n",
    "            color=color,\n",
    "        )\n",
    "        .add_selection(selection)\n",
    "    )\n",
    "    legend.title = \"Category\"\n",
    "\n",
    "    combined_charts.append(\n",
    "        (total_activity + (points + measure_points + lines))\n",
    "        .resolve_scale(y=\"independent\")\n",
    "        .properties(width=900, height=300)\n",
    "        & (activity.properties(width=900, height=300) | legend)\n",
    "    )"
   ]
  },
  {
   "cell_type": "code",
   "execution_count": null,
   "metadata": {
    "ExecuteTime": {
     "end_time": "2020-04-22T21:22:28.882635Z",
     "start_time": "2020-04-22T21:22:27.899846Z"
    },
    "scrolled": false
   },
   "outputs": [],
   "source": [
    "alt.vconcat(*combined_charts)"
   ]
  },
  {
   "cell_type": "code",
   "execution_count": null,
   "metadata": {
    "ExecuteTime": {
     "end_time": "2020-04-22T21:19:23.331248Z",
     "start_time": "2020-04-22T21:19:23.206665Z"
    },
    "scrolled": false
   },
   "outputs": [],
   "source": [
    "(total_activity + (points + measure_points + lines)).resolve_scale(\n",
    "    y=\"independent\"\n",
    ").properties(width=900, height=300) & (\n",
    "    activity.properties(width=900, height=300) | legend\n",
    ")"
   ]
  },
  {
   "cell_type": "markdown",
   "metadata": {},
   "source": [
    "### Experiments"
   ]
  },
  {
   "cell_type": "code",
   "execution_count": null,
   "metadata": {
    "ExecuteTime": {
     "end_time": "2020-04-22T21:15:49.733727Z",
     "start_time": "2020-04-22T21:15:49.706545Z"
    }
   },
   "outputs": [],
   "source": [
    "# day_markers = (\n",
    "#     base.transform_calculate(\n",
    "#         as_=\"doubling_time\", calculate=\"log(2) / datum.cases_logratio\"\n",
    "#     )\n",
    "#     .mark_point(clip=True, color=\"green\")\n",
    "#     .encode(\n",
    "#         y=alt.Y(\n",
    "#             \"doubling_time:Q\",\n",
    "#             scale=alt.Scale(domain=(21, 0)),\n",
    "#             axis=alt.Axis(\n",
    "#                 title=\"Doubling Time (Days)\",\n",
    "#                 grid=True,\n",
    "#                 gridColor=\"grey\",\n",
    "#                 gridWidth=0.75,\n",
    "#                 orient=\"right\",\n",
    "#                 values=[2, 3, 4, 5, 6, 7, 14, 21],\n",
    "#             ),\n",
    "#         )\n",
    "#     )\n",
    "# )\n",
    "# day_markers"
   ]
  },
  {
   "cell_type": "code",
   "execution_count": null,
   "metadata": {},
   "outputs": [],
   "source": []
  }
 ],
 "metadata": {
  "kernelspec": {
   "display_name": "Python [conda env:ds-base]",
   "language": "python",
   "name": "conda-env-ds-base-py"
  },
  "language_info": {
   "codemirror_mode": {
    "name": "ipython",
    "version": 3
   },
   "file_extension": ".py",
   "mimetype": "text/x-python",
   "name": "python",
   "nbconvert_exporter": "python",
   "pygments_lexer": "ipython3",
   "version": "3.7.3"
  },
  "toc": {
   "base_numbering": 1,
   "nav_menu": {},
   "number_sections": true,
   "sideBar": true,
   "skip_h1_title": false,
   "title_cell": "Table of Contents",
   "title_sidebar": "Contents",
   "toc_cell": false,
   "toc_position": {},
   "toc_section_display": true,
   "toc_window_display": false
  }
 },
 "nbformat": 4,
 "nbformat_minor": 4
}
