{
 "cells": [
  {
   "cell_type": "markdown",
   "metadata": {},
   "source": [
    "### Setup"
   ]
  },
  {
   "cell_type": "code",
   "execution_count": 1,
   "metadata": {
    "ExecuteTime": {
     "end_time": "2020-04-24T19:11:20.049672Z",
     "start_time": "2020-04-24T19:11:20.025620Z"
    }
   },
   "outputs": [],
   "source": [
    "%load_ext autoreload\n",
    "%autoreload 2"
   ]
  },
  {
   "cell_type": "code",
   "execution_count": 2,
   "metadata": {
    "ExecuteTime": {
     "end_time": "2020-04-24T19:11:21.194518Z",
     "start_time": "2020-04-24T19:11:20.339841Z"
    }
   },
   "outputs": [],
   "source": [
    "from pathlib import Path\n",
    "\n",
    "import numpy as np\n",
    "import pandas as pd\n",
    "\n",
    "import altair as alt\n",
    "\n",
    "from covidviz import data"
   ]
  },
  {
   "cell_type": "code",
   "execution_count": 3,
   "metadata": {
    "ExecuteTime": {
     "end_time": "2020-04-24T19:11:21.226857Z",
     "start_time": "2020-04-24T19:11:21.196602Z"
    }
   },
   "outputs": [],
   "source": [
    "DATA_PATH = Path.cwd() / \"data\"\n",
    "MIN_N_CASES = 50\n",
    "day_counter = f\"days_since_{MIN_N_CASES}_cases\""
   ]
  },
  {
   "cell_type": "markdown",
   "metadata": {},
   "source": [
    "### Data preparation"
   ]
  },
  {
   "cell_type": "markdown",
   "metadata": {},
   "source": [
    "#### Infections"
   ]
  },
  {
   "cell_type": "code",
   "execution_count": 4,
   "metadata": {
    "ExecuteTime": {
     "end_time": "2020-04-24T19:11:21.615685Z",
     "start_time": "2020-04-24T19:11:21.588686Z"
    }
   },
   "outputs": [],
   "source": [
    "# Unfortunately, the mopo data seems to be refreshed only once a week at most\n",
    "# mopo = pd.read_csv(\n",
    "#     \"https://interaktiv.morgenpost.de/corona-virus-karte-infektionen-deutschland-weltweit/data/Coronavirus.history.v2.csv\"\n",
    "# ).query(\"parent == 'Deutschland'\")\n",
    "# mopo[\"date\"].max()"
   ]
  },
  {
   "cell_type": "code",
   "execution_count": 5,
   "metadata": {
    "ExecuteTime": {
     "end_time": "2020-04-24T19:11:21.974482Z",
     "start_time": "2020-04-24T19:11:21.895600Z"
    }
   },
   "outputs": [],
   "source": [
    "# We'll use the RKI data instead\n",
    "df = data.get_data(\n",
    "    out_path=DATA_PATH,\n",
    "    states=pd.read_csv(DATA_PATH / \"bundeslaender.csv\")[\"Bundesland\"].unique(),\n",
    ")"
   ]
  },
  {
   "cell_type": "code",
   "execution_count": 6,
   "metadata": {
    "ExecuteTime": {
     "end_time": "2020-04-24T19:11:22.476790Z",
     "start_time": "2020-04-24T19:11:22.331062Z"
    }
   },
   "outputs": [],
   "source": [
    "daily_infections = df.pipe(data.prepare_daily_infections, n_cases=MIN_N_CASES).pipe(\n",
    "    data.add_measures, measures=data.read_measure_data(DATA_PATH)\n",
    ")"
   ]
  },
  {
   "cell_type": "code",
   "execution_count": 7,
   "metadata": {
    "ExecuteTime": {
     "end_time": "2020-04-24T19:11:23.123635Z",
     "start_time": "2020-04-24T19:11:23.081062Z"
    }
   },
   "outputs": [
    {
     "data": {
      "text/html": [
       "<div>\n",
       "<style scoped>\n",
       "    .dataframe tbody tr th:only-of-type {\n",
       "        vertical-align: middle;\n",
       "    }\n",
       "\n",
       "    .dataframe tbody tr th {\n",
       "        vertical-align: top;\n",
       "    }\n",
       "\n",
       "    .dataframe thead th {\n",
       "        text-align: right;\n",
       "    }\n",
       "</style>\n",
       "<table border=\"1\" class=\"dataframe\">\n",
       "  <thead>\n",
       "    <tr style=\"text-align: right;\">\n",
       "      <th></th>\n",
       "      <th>Bundesland</th>\n",
       "      <th>Meldedatum</th>\n",
       "      <th>Neuinfektionen</th>\n",
       "      <th>infections_cumulative</th>\n",
       "      <th>date_50_cases</th>\n",
       "      <th>days_since_50_cases</th>\n",
       "      <th>Maßnahmen</th>\n",
       "    </tr>\n",
       "  </thead>\n",
       "  <tbody>\n",
       "    <tr>\n",
       "      <th>0</th>\n",
       "      <td>Baden-Württemberg</td>\n",
       "      <td>2020-02-16</td>\n",
       "      <td>1</td>\n",
       "      <td>1</td>\n",
       "      <td>2020-03-03</td>\n",
       "      <td>-16</td>\n",
       "      <td>NaN</td>\n",
       "    </tr>\n",
       "    <tr>\n",
       "      <th>1</th>\n",
       "      <td>Baden-Württemberg</td>\n",
       "      <td>2020-02-23</td>\n",
       "      <td>1</td>\n",
       "      <td>2</td>\n",
       "      <td>2020-03-03</td>\n",
       "      <td>-9</td>\n",
       "      <td>NaN</td>\n",
       "    </tr>\n",
       "  </tbody>\n",
       "</table>\n",
       "</div>"
      ],
      "text/plain": [
       "          Bundesland Meldedatum  Neuinfektionen  infections_cumulative  \\\n",
       "0  Baden-Württemberg 2020-02-16               1                      1   \n",
       "1  Baden-Württemberg 2020-02-23               1                      2   \n",
       "\n",
       "  date_50_cases  days_since_50_cases Maßnahmen  \n",
       "0    2020-03-03                  -16       NaN  \n",
       "1    2020-03-03                   -9       NaN  "
      ]
     },
     "execution_count": 7,
     "metadata": {},
     "output_type": "execute_result"
    }
   ],
   "source": [
    "daily_infections.head(2)"
   ]
  },
  {
   "cell_type": "markdown",
   "metadata": {},
   "source": [
    "#### Google's mobility reports"
   ]
  },
  {
   "cell_type": "code",
   "execution_count": 8,
   "metadata": {
    "ExecuteTime": {
     "end_time": "2020-04-24T19:11:24.184850Z",
     "start_time": "2020-04-24T19:11:24.163323Z"
    }
   },
   "outputs": [],
   "source": [
    "STATE_MAPPER = {\n",
    "    \"Baden-Württemberg\": \"Baden-Württemberg\",\n",
    "    \"Bavaria\": \"Bayern\",\n",
    "    \"Berlin\": \"Berlin\",\n",
    "    \"Brandenburg\": \"Brandenburg\",\n",
    "    \"Bremen\": \"Bremen\",\n",
    "    \"Hamburg\": \"Hamburg\",\n",
    "    \"Hesse\": \"Hessen\",\n",
    "    \"Lower Saxony\": \"Niedersachsen\",\n",
    "    \"Mecklenburg-Vorpommern\": \"Mecklenburg-Vorpommern\",\n",
    "    \"North Rhine-Westphalia\": \"Nordrhein-Westfalen\",\n",
    "    \"Rhineland-Palatinate\": \"Rheinland-Pfalz\",\n",
    "    \"Saarland\": \"Saarland\",\n",
    "    \"Saxony\": \"Sachsen\",\n",
    "    \"Saxony-Anhalt\": \"Sachsen-Anhalt\",\n",
    "    \"Schleswig-Holstein\": \"Schleswig-Holstein\",\n",
    "    \"Thuringia\": \"Thüringen\",\n",
    "}"
   ]
  },
  {
   "cell_type": "code",
   "execution_count": 9,
   "metadata": {
    "ExecuteTime": {
     "end_time": "2020-04-24T19:11:25.117444Z",
     "start_time": "2020-04-24T19:11:24.758326Z"
    }
   },
   "outputs": [],
   "source": [
    "mobility = (\n",
    "    pd.read_csv(\n",
    "        DATA_PATH / \"Global_Mobility_Report.csv\",\n",
    "        low_memory=False,\n",
    "        parse_dates=[\"date\"],\n",
    "        infer_datetime_format=True,\n",
    "    )\n",
    "    .query(\"country_region_code == 'DE' and not sub_region_1.isna()\")\n",
    "    .rename(columns={\"sub_region_1\": \"Bundesland\", \"date\": \"Meldedatum\"})\n",
    "    .drop(columns=[\"country_region_code\", \"country_region\", \"sub_region_2\"])\n",
    "    .assign(Bundesland=lambda df: df[\"Bundesland\"].map(STATE_MAPPER))\n",
    ")"
   ]
  },
  {
   "cell_type": "markdown",
   "metadata": {},
   "source": [
    "### Visualization"
   ]
  },
  {
   "cell_type": "code",
   "execution_count": 11,
   "metadata": {
    "ExecuteTime": {
     "end_time": "2020-04-24T19:11:29.488686Z",
     "start_time": "2020-04-24T19:11:29.426394Z"
    }
   },
   "outputs": [],
   "source": [
    "percentage_change_cols_mapper = {\n",
    "    c: c[: c.find(\"percent_change\") - 1].replace(\"_\", \" \").title()\n",
    "    for c in mobility.columns\n",
    "    if \"percent_change\" in c\n",
    "}\n",
    "\n",
    "plot_df = (\n",
    "    daily_infections.assign(\n",
    "        **{\n",
    "            \"absolute_growth\": lambda df: df.groupby(\"Bundesland\")[\n",
    "                \"infections_cumulative\"\n",
    "            ].transform(lambda s: s.diff()),\n",
    "            \"cases_logratio\": lambda df: df.groupby(\"Bundesland\")[\n",
    "                \"infections_cumulative\"\n",
    "            ].transform(lambda s: np.log(s).diff()),\n",
    "            \"num_measures\": lambda df: df[\"Maßnahmen\"].apply(\n",
    "                lambda x: len(x.split(\"und\")) if isinstance(x, str) else 0\n",
    "            ),\n",
    "        }\n",
    "    )\n",
    "    .merge(mobility, on=[\"Bundesland\", \"Meldedatum\"], how=\"outer\")\n",
    "    .assign(\n",
    "        total_activity=lambda df: df[list(percentage_change_cols_mapper.keys())].sum(\n",
    "            axis=1\n",
    "        )\n",
    "        / 100\n",
    "    )\n",
    "    # .query(f\"{day_counter} >= 0\")\n",
    "    .query(\"Meldedatum >= '2020-03-01'\")\n",
    "    .rename(columns=percentage_change_cols_mapper)\n",
    ")"
   ]
  },
  {
   "cell_type": "code",
   "execution_count": 12,
   "metadata": {
    "ExecuteTime": {
     "end_time": "2020-04-24T19:11:30.619691Z",
     "start_time": "2020-04-24T19:11:30.584221Z"
    },
    "scrolled": true
   },
   "outputs": [
    {
     "data": {
      "text/html": [
       "<div>\n",
       "<style scoped>\n",
       "    .dataframe tbody tr th:only-of-type {\n",
       "        vertical-align: middle;\n",
       "    }\n",
       "\n",
       "    .dataframe tbody tr th {\n",
       "        vertical-align: top;\n",
       "    }\n",
       "\n",
       "    .dataframe thead th {\n",
       "        text-align: right;\n",
       "    }\n",
       "</style>\n",
       "<table border=\"1\" class=\"dataframe\">\n",
       "  <thead>\n",
       "    <tr style=\"text-align: right;\">\n",
       "      <th></th>\n",
       "      <th>Bundesland</th>\n",
       "      <th>Meldedatum</th>\n",
       "      <th>Neuinfektionen</th>\n",
       "      <th>infections_cumulative</th>\n",
       "      <th>date_50_cases</th>\n",
       "      <th>days_since_50_cases</th>\n",
       "      <th>Maßnahmen</th>\n",
       "      <th>absolute_growth</th>\n",
       "      <th>cases_logratio</th>\n",
       "      <th>num_measures</th>\n",
       "      <th>Retail And Recreation</th>\n",
       "      <th>Grocery And Pharmacy</th>\n",
       "      <th>Parks</th>\n",
       "      <th>Transit Stations</th>\n",
       "      <th>Workplaces</th>\n",
       "      <th>Residential</th>\n",
       "      <th>total_activity</th>\n",
       "    </tr>\n",
       "  </thead>\n",
       "  <tbody>\n",
       "    <tr>\n",
       "      <th>8</th>\n",
       "      <td>Baden-Württemberg</td>\n",
       "      <td>2020-03-01</td>\n",
       "      <td>2.0</td>\n",
       "      <td>25.0</td>\n",
       "      <td>2020-03-03</td>\n",
       "      <td>-2.0</td>\n",
       "      <td>NaN</td>\n",
       "      <td>2.0</td>\n",
       "      <td>0.083382</td>\n",
       "      <td>0.0</td>\n",
       "      <td>9.0</td>\n",
       "      <td>20.0</td>\n",
       "      <td>40.0</td>\n",
       "      <td>6.0</td>\n",
       "      <td>-1.0</td>\n",
       "      <td>0.0</td>\n",
       "      <td>0.74</td>\n",
       "    </tr>\n",
       "    <tr>\n",
       "      <th>9</th>\n",
       "      <td>Baden-Württemberg</td>\n",
       "      <td>2020-03-02</td>\n",
       "      <td>11.0</td>\n",
       "      <td>36.0</td>\n",
       "      <td>2020-03-03</td>\n",
       "      <td>-1.0</td>\n",
       "      <td>NaN</td>\n",
       "      <td>11.0</td>\n",
       "      <td>0.364643</td>\n",
       "      <td>0.0</td>\n",
       "      <td>0.0</td>\n",
       "      <td>8.0</td>\n",
       "      <td>-2.0</td>\n",
       "      <td>-3.0</td>\n",
       "      <td>-1.0</td>\n",
       "      <td>1.0</td>\n",
       "      <td>0.03</td>\n",
       "    </tr>\n",
       "  </tbody>\n",
       "</table>\n",
       "</div>"
      ],
      "text/plain": [
       "          Bundesland Meldedatum  Neuinfektionen  infections_cumulative  \\\n",
       "8  Baden-Württemberg 2020-03-01             2.0                   25.0   \n",
       "9  Baden-Württemberg 2020-03-02            11.0                   36.0   \n",
       "\n",
       "  date_50_cases  days_since_50_cases Maßnahmen  absolute_growth  \\\n",
       "8    2020-03-03                 -2.0       NaN              2.0   \n",
       "9    2020-03-03                 -1.0       NaN             11.0   \n",
       "\n",
       "   cases_logratio  num_measures  Retail And Recreation  Grocery And Pharmacy  \\\n",
       "8        0.083382           0.0                    9.0                  20.0   \n",
       "9        0.364643           0.0                    0.0                   8.0   \n",
       "\n",
       "   Parks  Transit Stations  Workplaces  Residential  total_activity  \n",
       "8   40.0               6.0        -1.0          0.0            0.74  \n",
       "9   -2.0              -3.0        -1.0          1.0            0.03  "
      ]
     },
     "execution_count": 12,
     "metadata": {},
     "output_type": "execute_result"
    }
   ],
   "source": [
    "plot_df.head(2)"
   ]
  },
  {
   "cell_type": "markdown",
   "metadata": {
    "heading_collapsed": true
   },
   "source": [
    "#### Relative increase"
   ]
  },
  {
   "cell_type": "code",
   "execution_count": null,
   "metadata": {
    "ExecuteTime": {
     "end_time": "2020-04-22T21:15:45.565881Z",
     "start_time": "2020-04-22T21:15:45.166550Z"
    },
    "hidden": true
   },
   "outputs": [],
   "source": [
    "X_VARIABLE = \"days_since_50_cases\"\n",
    "Y_VARIABLE = \"daily_increase\"\n",
    "\n",
    "if Y_VARIABLE == \"daily_increase\":\n",
    "    expression = \"pow(E, datum.cases_logratio) - 1\"\n",
    "    y_title = \"Daily Increase in Cumulative Cases\"\n",
    "    y_format = \"%\"\n",
    "    y_domain = (0, 0.9)\n",
    "    measure_level = \"0.85\"\n",
    "    title = \"Daily Increase of COVID-19 Cases in German States\"\n",
    "elif Y_VARIABLE == \"doubling_time\":\n",
    "    expression = \"log(2) / datum.cases_logratio\"\n",
    "    y_title = \"Doubling Time (Days)\"\n",
    "    y_format = \"\"\n",
    "    y_domain = (50, 0)\n",
    "    measure_level = \"45\"\n",
    "    title = \"Doubling Time of COVID-19 Cases in German States\"\n",
    "elif Y_VARIABLE == \"absolute_growth\":\n",
    "    raise NotImplementedError(\"This doesn't work yet.\")\n",
    "    expression = \"datum.absolute_increase\"\n",
    "    y_title = \"Absolute Growth in Cumulative Cases\"\n",
    "    y_format = \"\"\n",
    "    title = \"Absolute Growth of COVID-19 Cases in German States\"\n",
    "else:\n",
    "    raise NotImplementedError(f\"y variable {Y_VARIABLE} is not implemented.\")\n",
    "\n",
    "combined_charts = []\n",
    "line_charts = []\n",
    "for state in plot_df[\"Bundesland\"].unique():\n",
    "    base = alt.Chart(plot_df.query(f\"Bundesland == '{state}'\"), title=state).encode(\n",
    "        x=alt.X(\n",
    "            X_VARIABLE,\n",
    "            axis=alt.Axis(title=X_VARIABLE.replace(\"_\", \" \").title(), offset=5),\n",
    "        ),\n",
    "        y=alt.Y(\"cases_logratio:Q\"),\n",
    "    )\n",
    "    points = (\n",
    "        base.transform_calculate(as_=Y_VARIABLE, calculate=expression)\n",
    "        .mark_point()\n",
    "        .encode(\n",
    "            y=alt.Y(\n",
    "                f\"{Y_VARIABLE}:Q\",\n",
    "                scale=alt.Scale(domain=y_domain),\n",
    "                axis=alt.Axis(format=y_format, title=y_title),\n",
    "            ),\n",
    "            color=\"Bundesland:N\",\n",
    "        )\n",
    "    )\n",
    "    measure_points = (\n",
    "        base.mark_point(size=300, shape=\"diamond\", color=\"grey\", fill=None)\n",
    "        .transform_calculate(y_level=measure_level)\n",
    "        .encode(\n",
    "            y=\"y_level:Q\",\n",
    "            size=alt.Size(\"Anzahl Maßnahmen:Q\"),\n",
    "            tooltip=[\"Meldedatum\", \"Maßnahmen\"],\n",
    "        )\n",
    "        .interactive()\n",
    "    )\n",
    "    lines = (\n",
    "        points.transform_loess(\n",
    "            on=X_VARIABLE,\n",
    "            loess=Y_VARIABLE,\n",
    "            as_=[X_VARIABLE, f\"{Y_VARIABLE}_loess\"],\n",
    "            groupby=[\"Bundesland\"],\n",
    "        )\n",
    "        .mark_line()\n",
    "        .encode(\n",
    "            y=alt.Y(\n",
    "                f\"{Y_VARIABLE}_loess:Q\",\n",
    "                scale=alt.Scale(domain=y_domain),\n",
    "                axis=alt.Axis(format=y_format, title=y_title),\n",
    "            ),\n",
    "            tooltip=[X_VARIABLE],\n",
    "        )\n",
    "    )\n",
    "    line_charts.append(lines.properties(width=900, height=300, title=title))\n",
    "    combined_charts.append(\n",
    "        (points + measure_points + lines).properties(width=900, height=300)\n",
    "    )"
   ]
  },
  {
   "cell_type": "code",
   "execution_count": null,
   "metadata": {
    "ExecuteTime": {
     "end_time": "2020-04-22T21:15:45.988940Z",
     "start_time": "2020-04-22T21:15:45.567908Z"
    },
    "hidden": true,
    "scrolled": false
   },
   "outputs": [],
   "source": [
    "alt.layer(*line_charts)"
   ]
  },
  {
   "cell_type": "code",
   "execution_count": null,
   "metadata": {
    "ExecuteTime": {
     "end_time": "2020-04-22T21:15:46.512762Z",
     "start_time": "2020-04-22T21:15:45.990704Z"
    },
    "hidden": true,
    "scrolled": true
   },
   "outputs": [],
   "source": [
    "alt.vconcat(*combined_charts)"
   ]
  },
  {
   "cell_type": "markdown",
   "metadata": {
    "heading_collapsed": true
   },
   "source": [
    "#### Absolute increase"
   ]
  },
  {
   "cell_type": "code",
   "execution_count": null,
   "metadata": {
    "ExecuteTime": {
     "end_time": "2020-04-22T21:15:46.539323Z",
     "start_time": "2020-04-22T21:15:46.514642Z"
    },
    "hidden": true
   },
   "outputs": [],
   "source": [
    "X_VARIABLE = \"days_since_50_cases\"\n",
    "Y_VARIABLE = \"absolute_growth\"\n",
    "y_title = \"Absolute Growth in Cumulative Cases\"\n",
    "y_format = \"\"\n",
    "title = \"Absolute Growth of COVID-19 Cases in German States\""
   ]
  },
  {
   "cell_type": "code",
   "execution_count": null,
   "metadata": {
    "ExecuteTime": {
     "end_time": "2020-04-22T21:15:47.012750Z",
     "start_time": "2020-04-22T21:15:46.544065Z"
    },
    "hidden": true
   },
   "outputs": [],
   "source": [
    "combined_charts = []\n",
    "line_charts = []\n",
    "for state in plot_df[\"Bundesland\"].unique():\n",
    "\n",
    "    base = alt.Chart(plot_df.query(f\"Bundesland == '{state}'\"), title=state).encode(\n",
    "        x=alt.X(\n",
    "            X_VARIABLE, axis=alt.Axis(title=X_VARIABLE.replace(\"_\", \" \").title(), offset=5)\n",
    "        ),\n",
    "        y=alt.Y(f\"{Y_VARIABLE}:Q\"),\n",
    "    )\n",
    "    points = base.mark_point().encode(y=alt.Y(f\"{Y_VARIABLE}:Q\"), color=\"Bundesland:N\")\n",
    "    measure_points = (\n",
    "        base.mark_point(size=600, shape=\"diamond\", color=\"grey\", fill=None)\n",
    "        .transform_calculate(y_level=\"0\")\n",
    "        .encode(\n",
    "            y=\"y_level:Q\",\n",
    "            size=alt.Size(\"Anzahl Maßnahmen:Q\"),\n",
    "            tooltip=[\"Meldedatum\", \"Maßnahmen\"],\n",
    "        )\n",
    "        .interactive()\n",
    "    )\n",
    "    lines = (\n",
    "        points.transform_loess(\n",
    "            on=X_VARIABLE,\n",
    "            loess=Y_VARIABLE,\n",
    "            as_=[X_VARIABLE, f\"{Y_VARIABLE}_loess\"],\n",
    "            groupby=[\"Bundesland\"],\n",
    "        )\n",
    "        .mark_line()\n",
    "        .encode(\n",
    "            y=alt.Y(f\"{Y_VARIABLE}_loess:Q\", axis=alt.Axis(format=\"\", title=y_title)),\n",
    "            tooltip=[X_VARIABLE],\n",
    "        )\n",
    "    )\n",
    "    combined_charts.append(\n",
    "        (points + measure_points + lines).properties(width=900, height=300)\n",
    "    )"
   ]
  },
  {
   "cell_type": "code",
   "execution_count": null,
   "metadata": {
    "ExecuteTime": {
     "end_time": "2020-04-22T21:15:47.895173Z",
     "start_time": "2020-04-22T21:15:47.015264Z"
    },
    "hidden": true,
    "scrolled": true
   },
   "outputs": [],
   "source": [
    "alt.vconcat(*combined_charts)"
   ]
  },
  {
   "cell_type": "markdown",
   "metadata": {
    "heading_collapsed": true
   },
   "source": [
    "#### Absolute increase + mobility data"
   ]
  },
  {
   "cell_type": "code",
   "execution_count": null,
   "metadata": {
    "ExecuteTime": {
     "end_time": "2020-04-24T14:44:09.546267Z",
     "start_time": "2020-04-24T14:44:09.517241Z"
    },
    "hidden": true
   },
   "outputs": [],
   "source": [
    "X_VARIABLE = \"Meldedatum\"\n",
    "Y_VARIABLE = \"absolute_growth\"\n",
    "y_title = \"Absolute Growth in Cumulative Cases\"\n",
    "y_format = \"\"\n",
    "title = \"Absolute Growth of COVID-19 Cases in German States\""
   ]
  },
  {
   "cell_type": "code",
   "execution_count": null,
   "metadata": {
    "ExecuteTime": {
     "end_time": "2020-04-24T12:12:53.248232Z",
     "start_time": "2020-04-24T12:12:52.735601Z"
    },
    "hidden": true
   },
   "outputs": [],
   "source": [
    "combined_charts = []\n",
    "line_charts = []\n",
    "\n",
    "activity_fields = plot_df[list(percentage_change_cols_mapper.values())]\n",
    "max_activity = (\n",
    "    max(\n",
    "        abs(activity_fields[activity_fields < 0].sum(axis=1).min()),\n",
    "        abs(activity_fields[activity_fields > 0].sum(axis=1).max()),\n",
    "    )\n",
    "    // 50\n",
    "    + 1\n",
    ") * 0.5\n",
    "\n",
    "for state in plot_df[\"Bundesland\"].unique():\n",
    "    base = alt.Chart(plot_df.query(f\"Bundesland == '{state}'\"), title=state).encode(\n",
    "        x=alt.X(\n",
    "            X_VARIABLE,\n",
    "            axis=alt.Axis(title=X_VARIABLE.replace(\"_\", \" \").title(), offset=5),\n",
    "        ),\n",
    "        y=alt.Y(f\"{Y_VARIABLE}:Q\"),\n",
    "    )\n",
    "    points = base.mark_point(color=\"DarkSlateBlue\").encode(\n",
    "        y=alt.Y(f\"{Y_VARIABLE}:Q\"), tooltip=list(set([\"Meldedatum\", X_VARIABLE]))\n",
    "    )\n",
    "    measure_points = (\n",
    "        base.mark_point(\n",
    "            size=400, shape=\"diamond\", color=\"DarkSlateGrey\", fill=\"DarkSlateGrey\"\n",
    "        )\n",
    "        .transform_calculate(y_level=\"0\")\n",
    "        .encode(y=\"y_level:Q\", tooltip=[\"Meldedatum\", \"Maßnahmen\"])\n",
    "        .transform_filter(\"datum.num_measures > 0\")\n",
    "    )\n",
    "    lines = (\n",
    "        points.transform_loess(\n",
    "            on=X_VARIABLE,\n",
    "            loess=Y_VARIABLE,\n",
    "            as_=[X_VARIABLE, f\"{Y_VARIABLE}_loess\"],\n",
    "            groupby=[\"Bundesland\"],\n",
    "        )\n",
    "        .mark_line(color=\"DarkSlateBlue\")\n",
    "        .encode(\n",
    "            y=alt.Y(f\"{Y_VARIABLE}_loess:Q\", axis=alt.Axis(format=\"\", title=y_title))\n",
    "        )\n",
    "    )\n",
    "    activity = (\n",
    "        base.mark_area()\n",
    "        .transform_fold(\n",
    "            fold=list(percentage_change_cols_mapper.values()),\n",
    "            as_=[\"Mobility Category\", \"mobility_change_percent\"],\n",
    "        )\n",
    "        .transform_calculate(\n",
    "            as_=\"Mobility Change\", calculate=\"datum.mobility_change_percent / 100\"\n",
    "        )\n",
    "        .encode(\n",
    "            y=alt.Y(\n",
    "                \"Mobility Change:Q\",\n",
    "                axis=alt.Axis(format=\"%\", orient=\"right\"),\n",
    "                scale=alt.Scale(domain=(-max_activity, max_activity)),\n",
    "            ),\n",
    "            color=alt.Color(\"Mobility Category:N\", scale=alt.Scale(scheme=\"blues\")),\n",
    "            opacity=alt.value(0.5),\n",
    "        )\n",
    "    )\n",
    "    combined_charts.append(\n",
    "        (activity + (points + measure_points + lines))\n",
    "        .resolve_scale(y=\"independent\")\n",
    "        .properties(width=900, height=300)\n",
    "    )"
   ]
  },
  {
   "cell_type": "code",
   "execution_count": null,
   "metadata": {
    "ExecuteTime": {
     "end_time": "2020-04-24T12:12:56.473041Z",
     "start_time": "2020-04-24T12:12:55.947234Z"
    },
    "hidden": true,
    "scrolled": true
   },
   "outputs": [],
   "source": [
    "alt.vconcat(*combined_charts)"
   ]
  },
  {
   "cell_type": "markdown",
   "metadata": {},
   "source": [
    "#### Absolute increase + interactive activity data"
   ]
  },
  {
   "cell_type": "code",
   "execution_count": 13,
   "metadata": {
    "ExecuteTime": {
     "end_time": "2020-04-24T19:11:58.040146Z",
     "start_time": "2020-04-24T19:11:57.993091Z"
    }
   },
   "outputs": [],
   "source": [
    "activity_df = plot_df[list(percentage_change_cols_mapper.values())]\n",
    "max_activity = (\n",
    "    max(\n",
    "        abs(activity_df[activity_df < 0].sum(axis=1).min()),\n",
    "        abs(activity_df[activity_df > 0].sum(axis=1).max()),\n",
    "    )\n",
    "    // 50\n",
    "    + 1\n",
    ") * 0.5"
   ]
  },
  {
   "cell_type": "code",
   "execution_count": 18,
   "metadata": {
    "ExecuteTime": {
     "end_time": "2020-04-24T19:14:14.456751Z",
     "start_time": "2020-04-24T19:14:14.417876Z"
    }
   },
   "outputs": [],
   "source": [
    "def plot_infection_activity_summary(\n",
    "    df, state, x_var, x_title, y_var, y_title, max_activity, width=900, height=300\n",
    "):\n",
    "    min_date = df.query(f\"Bundesland == '{state}'\")[\"Meldedatum\"].min()\n",
    "    max_date = df.query(f\"Bundesland == '{state}'\")[\"Meldedatum\"].max()\n",
    "    date_range = [\n",
    "        str(time.date())\n",
    "        for time in pd.date_range(start=min_date, freq=\"W\", end=max_date)\n",
    "    ]\n",
    "    base = alt.Chart(\n",
    "        df.query(f\"Bundesland == '{state}'\"),\n",
    "        title=f\"{state}: Infections and Aggregate Mobility\",\n",
    "    ).encode(\n",
    "        x=alt.X(\n",
    "            x_var,\n",
    "            axis=alt.Axis(\n",
    "                title=x_title, offset=0, grid=False, values=date_range, format=\"%b %d\"\n",
    "            ),\n",
    "        ),\n",
    "        y=alt.Y(f\"{y_var}:Q\"),\n",
    "    )\n",
    "    points = base.mark_point(color=\"DarkSlateBlue\").encode(\n",
    "        y=alt.Y(f\"{y_var}:Q\"),\n",
    "        tooltip=list(\n",
    "            set([\"Meldedatum\", x_var, \"Neuinfektionen\", \"infections_cumulative\"])\n",
    "        ),\n",
    "    )\n",
    "    lines = (\n",
    "        points.transform_loess(\n",
    "            on=x_var, loess=y_var, as_=[x_var, f\"{y_var}_loess\"], groupby=[\"Bundesland\"]\n",
    "        )\n",
    "        .mark_line(color=\"DarkSlateBlue\")\n",
    "        .encode(y=alt.Y(f\"{y_var}_loess:Q\", axis=alt.Axis(format=\"\", title=y_title)))\n",
    "    )\n",
    "\n",
    "    total_activity = base.mark_area(color=\"#5ba3cf\").encode(\n",
    "        y=alt.Y(\n",
    "            \"total_activity:Q\",\n",
    "            axis=alt.Axis(format=\"%\", orient=\"right\", title=\"Google Mobility Index\"),\n",
    "            scale=alt.Scale(domain=(-max_activity, max_activity)),\n",
    "        ),\n",
    "        opacity=alt.value(0.2),\n",
    "    )\n",
    "    measures = (\n",
    "        base.mark_point(size=400, shape=\"diamond\", color=\"#125ca4\", fill=\"#125ca4\")\n",
    "        .transform_calculate(y_level=\"0\")\n",
    "        .encode(\n",
    "            y=alt.Y(\"y_level:Q\", axis=alt.Axis(orient=\"right\")),\n",
    "            tooltip=[\"Meldedatum\", \"Maßnahmen\"],\n",
    "        )\n",
    "        .transform_filter(\"datum.num_measures > 0\")\n",
    "    )\n",
    "    infections_activity_summary = (\n",
    "        ((total_activity + measures) + (points + lines))\n",
    "        .resolve_scale(y=\"independent\")\n",
    "        .properties(width=width, height=height)\n",
    "    )\n",
    "    infections_activity_summary.layer[1].encoding.y.title = \"\"\n",
    "    return infections_activity_summary"
   ]
  },
  {
   "cell_type": "code",
   "execution_count": 19,
   "metadata": {
    "ExecuteTime": {
     "end_time": "2020-04-24T19:14:21.873175Z",
     "start_time": "2020-04-24T19:14:21.842225Z"
    }
   },
   "outputs": [],
   "source": [
    "def plot_activity_details(df, state, x_var, x_title, activity_cols, max_activity, width=900, height=300):\n",
    "    min_date = df.query(f\"Bundesland == '{state}'\")[\"Meldedatum\"].min()\n",
    "    max_date = df.query(f\"Bundesland == '{state}'\")[\"Meldedatum\"].max()\n",
    "    date_range = [\n",
    "        str(time.date())\n",
    "        for time in pd.date_range(start=min_date, freq=\"W\", end=max_date)\n",
    "    ]\n",
    "    selection = alt.selection_multi(fields=[\"Mobility Category\"])\n",
    "    color = alt.condition(\n",
    "        selection,\n",
    "        alt.Color(\"Mobility Category:N\", scale=alt.Scale(scheme=\"blues\"), legend=None),\n",
    "        alt.value(\"lightgray\"),\n",
    "    )\n",
    "\n",
    "    activity_base = (\n",
    "        alt.Chart(\n",
    "            df.query(f\"Bundesland == '{state}'\"),\n",
    "            title=f\"{state}: Detailed Mobility Report\",\n",
    "        )\n",
    "        .transform_fold(\n",
    "            fold=activity_cols, as_=[\"Mobility Category\", \"mobility_change_percent\"]\n",
    "        )\n",
    "        .transform_calculate(\n",
    "            as_=\"Google Mobility Index\", calculate=\"datum.mobility_change_percent / 100\"\n",
    "        )\n",
    "    )\n",
    "\n",
    "    activity = activity_base.mark_area().encode(\n",
    "        x=alt.X(\n",
    "            x_var,\n",
    "            axis=alt.Axis(\n",
    "                title=x_title, offset=0, grid=False, values=date_range, format=\"%b %d\"\n",
    "            ),\n",
    "        ),\n",
    "        y=alt.Y(\n",
    "            \"Google Mobility Index:Q\",\n",
    "            axis=alt.Axis(format=\"%\", orient=\"right\"),\n",
    "            scale=alt.Scale(domain=(-max_activity, max_activity)),\n",
    "        ),\n",
    "        color=color,\n",
    "        opacity=alt.value(0.8),\n",
    "    )\n",
    "\n",
    "    legend = (\n",
    "        activity_base.mark_point()\n",
    "        .encode(\n",
    "            y=alt.Y(\n",
    "                \"Mobility Category:N\",\n",
    "                axis=alt.Axis(orient=\"right\", grid=False, ticks=False, offset=2),\n",
    "                title=\"Click to select\",\n",
    "            ),\n",
    "            color=color,\n",
    "        )\n",
    "        .add_selection(selection)\n",
    "    )\n",
    "    legend.title = \"Category\"\n",
    "    return (activity.properties(width=width, height=height) | legend).configure_axis(\n",
    "        grid=True\n",
    "    )"
   ]
  },
  {
   "cell_type": "code",
   "execution_count": 20,
   "metadata": {
    "ExecuteTime": {
     "end_time": "2020-04-24T19:14:24.094315Z",
     "start_time": "2020-04-24T19:14:23.989163Z"
    }
   },
   "outputs": [
    {
     "data": {
      "text/html": [
       "\n",
       "<div id=\"altair-viz-c0170c19229841c7978127548e267863\"></div>\n",
       "<script type=\"text/javascript\">\n",
       "  (function(spec, embedOpt){\n",
       "    const outputDiv = document.getElementById(\"altair-viz-c0170c19229841c7978127548e267863\");\n",
       "    const paths = {\n",
       "      \"vega\": \"https://cdn.jsdelivr.net/npm//vega@5?noext\",\n",
       "      \"vega-lib\": \"https://cdn.jsdelivr.net/npm//vega-lib?noext\",\n",
       "      \"vega-lite\": \"https://cdn.jsdelivr.net/npm//vega-lite@4.0.2?noext\",\n",
       "      \"vega-embed\": \"https://cdn.jsdelivr.net/npm//vega-embed@6?noext\",\n",
       "    };\n",
       "\n",
       "    function loadScript(lib) {\n",
       "      return new Promise(function(resolve, reject) {\n",
       "        var s = document.createElement('script');\n",
       "        s.src = paths[lib];\n",
       "        s.async = true;\n",
       "        s.onload = () => resolve(paths[lib]);\n",
       "        s.onerror = () => reject(`Error loading script: ${paths[lib]}`);\n",
       "        document.getElementsByTagName(\"head\")[0].appendChild(s);\n",
       "      });\n",
       "    }\n",
       "\n",
       "    function showError(err) {\n",
       "      outputDiv.innerHTML = `<div class=\"error\" style=\"color:red;\">${err}</div>`;\n",
       "      throw err;\n",
       "    }\n",
       "\n",
       "    function displayChart(vegaEmbed) {\n",
       "      vegaEmbed(outputDiv, spec, embedOpt)\n",
       "        .catch(err => showError(`Javascript Error: ${err.message}<br>This usually means there's a typo in your chart specification. See the javascript console for the full traceback.`));\n",
       "    }\n",
       "\n",
       "    if(typeof define === \"function\" && define.amd) {\n",
       "      requirejs.config({paths});\n",
       "      require([\"vega-embed\"], displayChart, err => showError(`Error loading script: ${err.message}`));\n",
       "    } else if (typeof vegaEmbed === \"function\") {\n",
       "      displayChart(vegaEmbed);\n",
       "    } else {\n",
       "      loadScript(\"vega\")\n",
       "        .then(() => loadScript(\"vega-lite\"))\n",
       "        .then(() => loadScript(\"vega-embed\"))\n",
       "        .catch(showError)\n",
       "        .then(() => displayChart(vegaEmbed));\n",
       "    }\n",
       "  })({\"config\": {\"view\": {\"continuousWidth\": 400, \"continuousHeight\": 300}}, \"layer\": [{\"mark\": {\"type\": \"area\", \"color\": \"#5ba3cf\"}, \"encoding\": {\"opacity\": {\"value\": 0.2}, \"x\": {\"type\": \"temporal\", \"axis\": {\"format\": \"%b %d\", \"grid\": false, \"offset\": 0, \"title\": \"Date\", \"values\": [\"2020-03-01\", \"2020-03-08\", \"2020-03-15\", \"2020-03-22\", \"2020-03-29\", \"2020-04-05\", \"2020-04-12\", \"2020-04-19\"]}, \"field\": \"Meldedatum\"}, \"y\": {\"type\": \"quantitative\", \"axis\": {\"format\": \"%\", \"orient\": \"right\", \"title\": \"Google Mobility Index\"}, \"field\": \"total_activity\", \"scale\": {\"domain\": [-3.5, 3.5]}}}, \"title\": \"Bayern: Infections and Aggregate Mobility\"}, {\"mark\": {\"type\": \"point\", \"color\": \"#125ca4\", \"fill\": \"#125ca4\", \"shape\": \"diamond\", \"size\": 400}, \"encoding\": {\"tooltip\": [{\"type\": \"temporal\", \"field\": \"Meldedatum\"}, {\"type\": \"nominal\", \"field\": \"Ma\\u00dfnahmen\"}], \"x\": {\"type\": \"temporal\", \"axis\": {\"format\": \"%b %d\", \"grid\": false, \"offset\": 0, \"title\": \"Date\", \"values\": [\"2020-03-01\", \"2020-03-08\", \"2020-03-15\", \"2020-03-22\", \"2020-03-29\", \"2020-04-05\", \"2020-04-12\", \"2020-04-19\"]}, \"field\": \"Meldedatum\"}, \"y\": {\"type\": \"quantitative\", \"axis\": {\"orient\": \"right\"}, \"field\": \"y_level\", \"title\": \"\"}}, \"title\": \"Bayern: Infections and Aggregate Mobility\", \"transform\": [{\"calculate\": \"0\", \"as\": \"y_level\"}, {\"filter\": \"datum.num_measures > 0\"}]}, {\"layer\": [{\"mark\": {\"type\": \"point\", \"color\": \"DarkSlateBlue\"}, \"encoding\": {\"tooltip\": [{\"type\": \"quantitative\", \"field\": \"infections_cumulative\"}, {\"type\": \"quantitative\", \"field\": \"Neuinfektionen\"}, {\"type\": \"temporal\", \"field\": \"Meldedatum\"}], \"x\": {\"type\": \"temporal\", \"axis\": {\"format\": \"%b %d\", \"grid\": false, \"offset\": 0, \"title\": \"Date\", \"values\": [\"2020-03-01\", \"2020-03-08\", \"2020-03-15\", \"2020-03-22\", \"2020-03-29\", \"2020-04-05\", \"2020-04-12\", \"2020-04-19\"]}, \"field\": \"Meldedatum\"}, \"y\": {\"type\": \"quantitative\", \"field\": \"absolute_growth\"}}, \"title\": \"Bayern: Infections and Aggregate Mobility\"}, {\"mark\": {\"type\": \"line\", \"color\": \"DarkSlateBlue\"}, \"encoding\": {\"tooltip\": [{\"type\": \"quantitative\", \"field\": \"infections_cumulative\"}, {\"type\": \"quantitative\", \"field\": \"Neuinfektionen\"}, {\"type\": \"temporal\", \"field\": \"Meldedatum\"}], \"x\": {\"type\": \"temporal\", \"axis\": {\"format\": \"%b %d\", \"grid\": false, \"offset\": 0, \"title\": \"Date\", \"values\": [\"2020-03-01\", \"2020-03-08\", \"2020-03-15\", \"2020-03-22\", \"2020-03-29\", \"2020-04-05\", \"2020-04-12\", \"2020-04-19\"]}, \"field\": \"Meldedatum\"}, \"y\": {\"type\": \"quantitative\", \"axis\": {\"format\": \"\", \"title\": \"Absolute Growth in Cumulative Cases\"}, \"field\": \"absolute_growth_loess\"}}, \"title\": \"Bayern: Infections and Aggregate Mobility\", \"transform\": [{\"loess\": \"absolute_growth\", \"on\": \"Meldedatum\", \"groupby\": [\"Bundesland\"], \"as\": [\"Meldedatum\", \"absolute_growth_loess\"]}]}]}], \"data\": {\"name\": \"data-3b299621e9eb2bd489d57e9fe68d91a5\"}, \"height\": 300, \"resolve\": {\"scale\": {\"y\": \"independent\"}}, \"width\": 900, \"$schema\": \"https://vega.github.io/schema/vega-lite/v4.0.2.json\", \"datasets\": {\"data-3b299621e9eb2bd489d57e9fe68d91a5\": [{\"Bundesland\": \"Bayern\", \"Meldedatum\": \"2020-03-01T00:00:00\", \"Neuinfektionen\": 3.0, \"infections_cumulative\": 25.0, \"date_50_cases\": \"2020-03-05T00:00:00\", \"days_since_50_cases\": -4.0, \"Ma\\u00dfnahmen\": null, \"absolute_growth\": 3.0, \"cases_logratio\": 0.1278333715098845, \"num_measures\": 0.0, \"Retail And Recreation\": 11.0, \"Grocery And Pharmacy\": 27.0, \"Parks\": 29.0, \"Transit Stations\": 6.0, \"Workplaces\": 1.0, \"Residential\": -1.0, \"total_activity\": 0.73}, {\"Bundesland\": \"Bayern\", \"Meldedatum\": \"2020-03-02T00:00:00\", \"Neuinfektionen\": 6.0, \"infections_cumulative\": 31.0, \"date_50_cases\": \"2020-03-05T00:00:00\", \"days_since_50_cases\": -3.0, \"Ma\\u00dfnahmen\": null, \"absolute_growth\": 6.0, \"cases_logratio\": 0.2151113796169457, \"num_measures\": 0.0, \"Retail And Recreation\": 1.0, \"Grocery And Pharmacy\": 10.0, \"Parks\": 10.0, \"Transit Stations\": -3.0, \"Workplaces\": 0.0, \"Residential\": 0.0, \"total_activity\": 0.18}, {\"Bundesland\": \"Bayern\", \"Meldedatum\": \"2020-03-03T00:00:00\", \"Neuinfektionen\": 6.0, \"infections_cumulative\": 37.0, \"date_50_cases\": \"2020-03-05T00:00:00\", \"days_since_50_cases\": -2.0, \"Ma\\u00dfnahmen\": null, \"absolute_growth\": 6.0, \"cases_logratio\": 0.17693070815907808, \"num_measures\": 0.0, \"Retail And Recreation\": -2.0, \"Grocery And Pharmacy\": 5.0, \"Parks\": 5.0, \"Transit Stations\": -7.0, \"Workplaces\": 0.0, \"Residential\": 1.0, \"total_activity\": 0.02}, {\"Bundesland\": \"Bayern\", \"Meldedatum\": \"2020-03-04T00:00:00\", \"Neuinfektionen\": 10.0, \"infections_cumulative\": 47.0, \"date_50_cases\": \"2020-03-05T00:00:00\", \"days_since_50_cases\": -1.0, \"Ma\\u00dfnahmen\": null, \"absolute_growth\": 10.0, \"cases_logratio\": 0.23922968906583408, \"num_measures\": 0.0, \"Retail And Recreation\": -2.0, \"Grocery And Pharmacy\": 2.0, \"Parks\": 7.0, \"Transit Stations\": -6.0, \"Workplaces\": 0.0, \"Residential\": 1.0, \"total_activity\": 0.02}, {\"Bundesland\": \"Bayern\", \"Meldedatum\": \"2020-03-05T00:00:00\", \"Neuinfektionen\": 22.0, \"infections_cumulative\": 69.0, \"date_50_cases\": \"2020-03-05T00:00:00\", \"days_since_50_cases\": 0.0, \"Ma\\u00dfnahmen\": null, \"absolute_growth\": 22.0, \"cases_logratio\": 0.38395890288720125, \"num_measures\": 0.0, \"Retail And Recreation\": -6.0, \"Grocery And Pharmacy\": 0.0, \"Parks\": -14.0, \"Transit Stations\": -9.0, \"Workplaces\": -1.0, \"Residential\": 1.0, \"total_activity\": -0.29}, {\"Bundesland\": \"Bayern\", \"Meldedatum\": \"2020-03-06T00:00:00\", \"Neuinfektionen\": 49.0, \"infections_cumulative\": 118.0, \"date_50_cases\": \"2020-03-05T00:00:00\", \"days_since_50_cases\": 1.0, \"Ma\\u00dfnahmen\": null, \"absolute_growth\": 49.0, \"cases_logratio\": 0.5365781198684054, \"num_measures\": 0.0, \"Retail And Recreation\": -6.0, \"Grocery And Pharmacy\": 1.0, \"Parks\": -14.0, \"Transit Stations\": -9.0, \"Workplaces\": -1.0, \"Residential\": 2.0, \"total_activity\": -0.27}, {\"Bundesland\": \"Bayern\", \"Meldedatum\": \"2020-03-07T00:00:00\", \"Neuinfektionen\": 17.0, \"infections_cumulative\": 135.0, \"date_50_cases\": \"2020-03-05T00:00:00\", \"days_since_50_cases\": 2.0, \"Ma\\u00dfnahmen\": null, \"absolute_growth\": 17.0, \"cases_logratio\": 0.13459015397276453, \"num_measures\": 0.0, \"Retail And Recreation\": -3.0, \"Grocery And Pharmacy\": 0.0, \"Parks\": -11.0, \"Transit Stations\": -7.0, \"Workplaces\": 0.0, \"Residential\": 1.0, \"total_activity\": -0.2}, {\"Bundesland\": \"Bayern\", \"Meldedatum\": \"2020-03-08T00:00:00\", \"Neuinfektionen\": 19.0, \"infections_cumulative\": 154.0, \"date_50_cases\": \"2020-03-05T00:00:00\", \"days_since_50_cases\": 3.0, \"Ma\\u00dfnahmen\": null, \"absolute_growth\": 19.0, \"cases_logratio\": 0.1316778239751999, \"num_measures\": 0.0, \"Retail And Recreation\": 20.0, \"Grocery And Pharmacy\": 39.0, \"Parks\": 47.0, \"Transit Stations\": 4.0, \"Workplaces\": 1.0, \"Residential\": -1.0, \"total_activity\": 1.1}, {\"Bundesland\": \"Bayern\", \"Meldedatum\": \"2020-03-09T00:00:00\", \"Neuinfektionen\": 84.0, \"infections_cumulative\": 238.0, \"date_50_cases\": \"2020-03-05T00:00:00\", \"days_since_50_cases\": 4.0, \"Ma\\u00dfnahmen\": null, \"absolute_growth\": 84.0, \"cases_logratio\": 0.4353180712578455, \"num_measures\": 0.0, \"Retail And Recreation\": -3.0, \"Grocery And Pharmacy\": 3.0, \"Parks\": 0.0, \"Transit Stations\": -10.0, \"Workplaces\": -1.0, \"Residential\": 1.0, \"total_activity\": -0.1}, {\"Bundesland\": \"Bayern\", \"Meldedatum\": \"2020-03-10T00:00:00\", \"Neuinfektionen\": 101.0, \"infections_cumulative\": 339.0, \"date_50_cases\": \"2020-03-05T00:00:00\", \"days_since_50_cases\": 5.0, \"Ma\\u00dfnahmen\": null, \"absolute_growth\": 101.0, \"cases_logratio\": 0.3537294337089749, \"num_measures\": 0.0, \"Retail And Recreation\": -9.0, \"Grocery And Pharmacy\": -2.0, \"Parks\": -14.0, \"Transit Stations\": -13.0, \"Workplaces\": -1.0, \"Residential\": 3.0, \"total_activity\": -0.36}, {\"Bundesland\": \"Bayern\", \"Meldedatum\": \"2020-03-11T00:00:00\", \"Neuinfektionen\": 112.0, \"infections_cumulative\": 451.0, \"date_50_cases\": \"2020-03-05T00:00:00\", \"days_since_50_cases\": 6.0, \"Ma\\u00dfnahmen\": \"Social Distancing (Kneipen, Abendprogramme, Kultur, Sport) und Veranstaltungs-/Versammlungsverbot\", \"absolute_growth\": 112.0, \"cases_logratio\": 0.2854672321222287, \"num_measures\": 2.0, \"Retail And Recreation\": -4.0, \"Grocery And Pharmacy\": 3.0, \"Parks\": 11.0, \"Transit Stations\": -10.0, \"Workplaces\": -2.0, \"Residential\": 2.0, \"total_activity\": 0.0}, {\"Bundesland\": \"Bayern\", \"Meldedatum\": \"2020-03-12T00:00:00\", \"Neuinfektionen\": 129.0, \"infections_cumulative\": 580.0, \"date_50_cases\": \"2020-03-05T00:00:00\", \"days_since_50_cases\": 7.0, \"Ma\\u00dfnahmen\": null, \"absolute_growth\": 129.0, \"cases_logratio\": 0.2515607640377864, \"num_measures\": 0.0, \"Retail And Recreation\": -6.0, \"Grocery And Pharmacy\": 6.0, \"Parks\": 5.0, \"Transit Stations\": -13.0, \"Workplaces\": -3.0, \"Residential\": 2.0, \"total_activity\": -0.09}, {\"Bundesland\": \"Bayern\", \"Meldedatum\": \"2020-03-13T00:00:00\", \"Neuinfektionen\": 246.0, \"infections_cumulative\": 826.0, \"date_50_cases\": \"2020-03-05T00:00:00\", \"days_since_50_cases\": 8.0, \"Ma\\u00dfnahmen\": \"Schlie\\u00dfung Bildungseinrichtungen / Kitas\", \"absolute_growth\": 246.0, \"cases_logratio\": 0.35356666998051267, \"num_measures\": 1.0, \"Retail And Recreation\": -12.0, \"Grocery And Pharmacy\": 22.0, \"Parks\": -2.0, \"Transit Stations\": -17.0, \"Workplaces\": -5.0, \"Residential\": 3.0, \"total_activity\": -0.11}, {\"Bundesland\": \"Bayern\", \"Meldedatum\": \"2020-03-14T00:00:00\", \"Neuinfektionen\": 231.0, \"infections_cumulative\": 1057.0, \"date_50_cases\": \"2020-03-05T00:00:00\", \"days_since_50_cases\": 9.0, \"Ma\\u00dfnahmen\": \"Isolation von Kranken / Gef\\u00e4hrdeten\", \"absolute_growth\": 231.0, \"cases_logratio\": 0.24659521234926007, \"num_measures\": 1.0, \"Retail And Recreation\": -19.0, \"Grocery And Pharmacy\": 9.0, \"Parks\": 3.0, \"Transit Stations\": -24.0, \"Workplaces\": -4.0, \"Residential\": 4.0, \"total_activity\": -0.31}, {\"Bundesland\": \"Bayern\", \"Meldedatum\": \"2020-03-15T00:00:00\", \"Neuinfektionen\": 156.0, \"infections_cumulative\": 1213.0, \"date_50_cases\": \"2020-03-05T00:00:00\", \"days_since_50_cases\": 10.0, \"Ma\\u00dfnahmen\": null, \"absolute_growth\": 156.0, \"cases_logratio\": 0.13766192307381253, \"num_measures\": 0.0, \"Retail And Recreation\": -3.0, \"Grocery And Pharmacy\": 30.0, \"Parks\": 75.0, \"Transit Stations\": -15.0, \"Workplaces\": -2.0, \"Residential\": 2.0, \"total_activity\": 0.87}, {\"Bundesland\": \"Bayern\", \"Meldedatum\": \"2020-03-16T00:00:00\", \"Neuinfektionen\": 264.0, \"infections_cumulative\": 1477.0, \"date_50_cases\": \"2020-03-05T00:00:00\", \"days_since_50_cases\": 11.0, \"Ma\\u00dfnahmen\": null, \"absolute_growth\": 264.0, \"cases_logratio\": 0.19691637358732983, \"num_measures\": 0.0, \"Retail And Recreation\": -4.0, \"Grocery And Pharmacy\": 25.0, \"Parks\": 39.0, \"Transit Stations\": -31.0, \"Workplaces\": -20.0, \"Residential\": 7.0, \"total_activity\": 0.16}, {\"Bundesland\": \"Bayern\", \"Meldedatum\": \"2020-03-17T00:00:00\", \"Neuinfektionen\": 459.0, \"infections_cumulative\": 1936.0, \"date_50_cases\": \"2020-03-05T00:00:00\", \"days_since_50_cases\": 12.0, \"Ma\\u00dfnahmen\": null, \"absolute_growth\": 459.0, \"cases_logratio\": 0.27061098530514194, \"num_measures\": 0.0, \"Retail And Recreation\": -24.0, \"Grocery And Pharmacy\": 6.0, \"Parks\": 11.0, \"Transit Stations\": -41.0, \"Workplaces\": -26.0, \"Residential\": 11.0, \"total_activity\": -0.63}, {\"Bundesland\": \"Bayern\", \"Meldedatum\": \"2020-03-18T00:00:00\", \"Neuinfektionen\": 700.0, \"infections_cumulative\": 2636.0, \"date_50_cases\": \"2020-03-05T00:00:00\", \"days_since_50_cases\": 13.0, \"Ma\\u00dfnahmen\": \"Isolation von Kranken / Gef\\u00e4hrdeten und Beschr\\u00e4nkung Restaurants\", \"absolute_growth\": 700.0, \"cases_logratio\": 0.3086386277858759, \"num_measures\": 2.0, \"Retail And Recreation\": -42.0, \"Grocery And Pharmacy\": -2.0, \"Parks\": 41.0, \"Transit Stations\": -44.0, \"Workplaces\": -31.0, \"Residential\": 12.0, \"total_activity\": -0.66}, {\"Bundesland\": \"Bayern\", \"Meldedatum\": \"2020-03-19T00:00:00\", \"Neuinfektionen\": 773.0, \"infections_cumulative\": 3409.0, \"date_50_cases\": \"2020-03-05T00:00:00\", \"days_since_50_cases\": 14.0, \"Ma\\u00dfnahmen\": null, \"absolute_growth\": 773.0, \"cases_logratio\": 0.25715637651550516, \"num_measures\": 0.0, \"Retail And Recreation\": -48.0, \"Grocery And Pharmacy\": -6.0, \"Parks\": 16.0, \"Transit Stations\": -50.0, \"Workplaces\": -34.0, \"Residential\": 14.0, \"total_activity\": -1.08}, {\"Bundesland\": \"Bayern\", \"Meldedatum\": \"2020-03-20T00:00:00\", \"Neuinfektionen\": 900.0, \"infections_cumulative\": 4309.0, \"date_50_cases\": \"2020-03-05T00:00:00\", \"days_since_50_cases\": 15.0, \"Ma\\u00dfnahmen\": null, \"absolute_growth\": 900.0, \"cases_logratio\": 0.23428686547793554, \"num_measures\": 0.0, \"Retail And Recreation\": -49.0, \"Grocery And Pharmacy\": 4.0, \"Parks\": -3.0, \"Transit Stations\": -52.0, \"Workplaces\": -36.0, \"Residential\": 15.0, \"total_activity\": -1.21}, {\"Bundesland\": \"Bayern\", \"Meldedatum\": \"2020-03-21T00:00:00\", \"Neuinfektionen\": 1056.0, \"infections_cumulative\": 5365.0, \"date_50_cases\": \"2020-03-05T00:00:00\", \"days_since_50_cases\": 16.0, \"Ma\\u00dfnahmen\": \"Ausgangsbeschr\\u00e4nkung\", \"absolute_growth\": 1056.0, \"cases_logratio\": 0.21919051744895945, \"num_measures\": 1.0, \"Retail And Recreation\": -85.0, \"Grocery And Pharmacy\": -43.0, \"Parks\": -72.0, \"Transit Stations\": -74.0, \"Workplaces\": -40.0, \"Residential\": 17.0, \"total_activity\": -2.97}, {\"Bundesland\": \"Bayern\", \"Meldedatum\": \"2020-03-22T00:00:00\", \"Neuinfektionen\": 602.0, \"infections_cumulative\": 5967.0, \"date_50_cases\": \"2020-03-05T00:00:00\", \"days_since_50_cases\": 17.0, \"Ma\\u00dfnahmen\": null, \"absolute_growth\": 602.0, \"cases_logratio\": 0.10634791245728437, \"num_measures\": 0.0, \"Retail And Recreation\": -81.0, \"Grocery And Pharmacy\": -48.0, \"Parks\": -36.0, \"Transit Stations\": -71.0, \"Workplaces\": -43.0, \"Residential\": 12.0, \"total_activity\": -2.67}, {\"Bundesland\": \"Bayern\", \"Meldedatum\": \"2020-03-23T00:00:00\", \"Neuinfektionen\": 679.0, \"infections_cumulative\": 6646.0, \"date_50_cases\": \"2020-03-05T00:00:00\", \"days_since_50_cases\": 18.0, \"Ma\\u00dfnahmen\": null, \"absolute_growth\": 679.0, \"cases_logratio\": 0.10777088139245627, \"num_measures\": 0.0, \"Retail And Recreation\": -67.0, \"Grocery And Pharmacy\": -20.0, \"Parks\": -24.0, \"Transit Stations\": -63.0, \"Workplaces\": -43.0, \"Residential\": 19.0, \"total_activity\": -1.98}, {\"Bundesland\": \"Bayern\", \"Meldedatum\": \"2020-03-24T00:00:00\", \"Neuinfektionen\": 1138.0, \"infections_cumulative\": 7784.0, \"date_50_cases\": \"2020-03-05T00:00:00\", \"days_since_50_cases\": 19.0, \"Ma\\u00dfnahmen\": null, \"absolute_growth\": 1138.0, \"cases_logratio\": 0.1580551749513024, \"num_measures\": 0.0, \"Retail And Recreation\": -67.0, \"Grocery And Pharmacy\": -23.0, \"Parks\": -9.0, \"Transit Stations\": -63.0, \"Workplaces\": -45.0, \"Residential\": 20.0, \"total_activity\": -1.87}, {\"Bundesland\": \"Bayern\", \"Meldedatum\": \"2020-03-25T00:00:00\", \"Neuinfektionen\": 1622.0, \"infections_cumulative\": 9406.0, \"date_50_cases\": \"2020-03-05T00:00:00\", \"days_since_50_cases\": 20.0, \"Ma\\u00dfnahmen\": null, \"absolute_growth\": 1622.0, \"cases_logratio\": 0.18927743863915225, \"num_measures\": 0.0, \"Retail And Recreation\": -68.0, \"Grocery And Pharmacy\": -23.0, \"Parks\": -19.0, \"Transit Stations\": -63.0, \"Workplaces\": -46.0, \"Residential\": 20.0, \"total_activity\": -1.99}, {\"Bundesland\": \"Bayern\", \"Meldedatum\": \"2020-03-26T00:00:00\", \"Neuinfektionen\": 1633.0, \"infections_cumulative\": 11039.0, \"date_50_cases\": \"2020-03-05T00:00:00\", \"days_since_50_cases\": 21.0, \"Ma\\u00dfnahmen\": null, \"absolute_growth\": 1633.0, \"cases_logratio\": 0.1600866735133586, \"num_measures\": 0.0, \"Retail And Recreation\": -69.0, \"Grocery And Pharmacy\": -21.0, \"Parks\": -33.0, \"Transit Stations\": -65.0, \"Workplaces\": -47.0, \"Residential\": 21.0, \"total_activity\": -2.14}, {\"Bundesland\": \"Bayern\", \"Meldedatum\": \"2020-03-27T00:00:00\", \"Neuinfektionen\": 1771.0, \"infections_cumulative\": 12810.0, \"date_50_cases\": \"2020-03-05T00:00:00\", \"days_since_50_cases\": 22.0, \"Ma\\u00dfnahmen\": null, \"absolute_growth\": 1771.0, \"cases_logratio\": 0.14879165887242785, \"num_measures\": 0.0, \"Retail And Recreation\": -68.0, \"Grocery And Pharmacy\": -17.0, \"Parks\": -3.0, \"Transit Stations\": -63.0, \"Workplaces\": -46.0, \"Residential\": 21.0, \"total_activity\": -1.76}, {\"Bundesland\": \"Bayern\", \"Meldedatum\": \"2020-03-28T00:00:00\", \"Neuinfektionen\": 1459.0, \"infections_cumulative\": 14269.0, \"date_50_cases\": \"2020-03-05T00:00:00\", \"days_since_50_cases\": 23.0, \"Ma\\u00dfnahmen\": null, \"absolute_growth\": 1459.0, \"cases_logratio\": 0.10786323603979575, \"num_measures\": 0.0, \"Retail And Recreation\": -75.0, \"Grocery And Pharmacy\": -23.0, \"Parks\": 6.0, \"Transit Stations\": -62.0, \"Workplaces\": -38.0, \"Residential\": 14.0, \"total_activity\": -1.78}, {\"Bundesland\": \"Bayern\", \"Meldedatum\": \"2020-03-29T00:00:00\", \"Neuinfektionen\": 863.0, \"infections_cumulative\": 15132.0, \"date_50_cases\": \"2020-03-05T00:00:00\", \"days_since_50_cases\": 24.0, \"Ma\\u00dfnahmen\": null, \"absolute_growth\": 863.0, \"cases_logratio\": 0.05872235482234345, \"num_measures\": 0.0, \"Retail And Recreation\": -80.0, \"Grocery And Pharmacy\": -49.0, \"Parks\": -50.0, \"Transit Stations\": -73.0, \"Workplaces\": -43.0, \"Residential\": 12.0, \"total_activity\": -2.83}, {\"Bundesland\": \"Bayern\", \"Meldedatum\": \"2020-03-30T00:00:00\", \"Neuinfektionen\": 1007.0, \"infections_cumulative\": 16139.0, \"date_50_cases\": \"2020-03-05T00:00:00\", \"days_since_50_cases\": 25.0, \"Ma\\u00dfnahmen\": null, \"absolute_growth\": 1007.0, \"cases_logratio\": 0.06442699628290427, \"num_measures\": 0.0, \"Retail And Recreation\": -63.0, \"Grocery And Pharmacy\": -18.0, \"Parks\": -21.0, \"Transit Stations\": -62.0, \"Workplaces\": -45.0, \"Residential\": 19.0, \"total_activity\": -1.9}, {\"Bundesland\": \"Bayern\", \"Meldedatum\": \"2020-03-31T00:00:00\", \"Neuinfektionen\": 1775.0, \"infections_cumulative\": 17914.0, \"date_50_cases\": \"2020-03-05T00:00:00\", \"days_since_50_cases\": 26.0, \"Ma\\u00dfnahmen\": null, \"absolute_growth\": 1775.0, \"cases_logratio\": 0.1043438269993171, \"num_measures\": 0.0, \"Retail And Recreation\": -63.0, \"Grocery And Pharmacy\": -17.0, \"Parks\": -13.0, \"Transit Stations\": -60.0, \"Workplaces\": -45.0, \"Residential\": 20.0, \"total_activity\": -1.78}, {\"Bundesland\": \"Bayern\", \"Meldedatum\": \"2020-04-01T00:00:00\", \"Neuinfektionen\": 1958.0, \"infections_cumulative\": 19872.0, \"date_50_cases\": \"2020-03-05T00:00:00\", \"days_since_50_cases\": 27.0, \"Ma\\u00dfnahmen\": null, \"absolute_growth\": 1958.0, \"cases_logratio\": 0.10372917569806539, \"num_measures\": 0.0, \"Retail And Recreation\": -62.0, \"Grocery And Pharmacy\": -16.0, \"Parks\": 6.0, \"Transit Stations\": -59.0, \"Workplaces\": -45.0, \"Residential\": 19.0, \"total_activity\": -1.57}, {\"Bundesland\": \"Bayern\", \"Meldedatum\": \"2020-04-02T00:00:00\", \"Neuinfektionen\": 1953.0, \"infections_cumulative\": 21825.0, \"date_50_cases\": \"2020-03-05T00:00:00\", \"days_since_50_cases\": 28.0, \"Ma\\u00dfnahmen\": null, \"absolute_growth\": 1953.0, \"cases_logratio\": 0.09374439597459805, \"num_measures\": 0.0, \"Retail And Recreation\": -62.0, \"Grocery And Pharmacy\": -14.0, \"Parks\": -2.0, \"Transit Stations\": -60.0, \"Workplaces\": -46.0, \"Residential\": 19.0, \"total_activity\": -1.65}, {\"Bundesland\": \"Bayern\", \"Meldedatum\": \"2020-04-03T00:00:00\", \"Neuinfektionen\": 1972.0, \"infections_cumulative\": 23797.0, \"date_50_cases\": \"2020-03-05T00:00:00\", \"days_since_50_cases\": 29.0, \"Ma\\u00dfnahmen\": null, \"absolute_growth\": 1972.0, \"cases_logratio\": 0.08650342058657223, \"num_measures\": 0.0, \"Retail And Recreation\": -67.0, \"Grocery And Pharmacy\": -13.0, \"Parks\": -25.0, \"Transit Stations\": -63.0, \"Workplaces\": -46.0, \"Residential\": 21.0, \"total_activity\": -1.93}, {\"Bundesland\": \"Bayern\", \"Meldedatum\": \"2020-04-04T00:00:00\", \"Neuinfektionen\": 1430.0, \"infections_cumulative\": 25227.0, \"date_50_cases\": \"2020-03-05T00:00:00\", \"days_since_50_cases\": 30.0, \"Ma\\u00dfnahmen\": null, \"absolute_growth\": 1430.0, \"cases_logratio\": 0.05835532720663217, \"num_measures\": 0.0, \"Retail And Recreation\": -73.0, \"Grocery And Pharmacy\": -18.0, \"Parks\": -10.0, \"Transit Stations\": -61.0, \"Workplaces\": -37.0, \"Residential\": 14.0, \"total_activity\": -1.85}, {\"Bundesland\": \"Bayern\", \"Meldedatum\": \"2020-04-05T00:00:00\", \"Neuinfektionen\": 691.0, \"infections_cumulative\": 25918.0, \"date_50_cases\": \"2020-03-05T00:00:00\", \"days_since_50_cases\": 31.0, \"Ma\\u00dfnahmen\": null, \"absolute_growth\": 691.0, \"cases_logratio\": 0.02702285849435171, \"num_measures\": 0.0, \"Retail And Recreation\": -65.0, \"Grocery And Pharmacy\": -19.0, \"Parks\": 21.0, \"Transit Stations\": -60.0, \"Workplaces\": -39.0, \"Residential\": 10.0, \"total_activity\": -1.52}, {\"Bundesland\": \"Bayern\", \"Meldedatum\": \"2020-04-06T00:00:00\", \"Neuinfektionen\": 1131.0, \"infections_cumulative\": 27049.0, \"date_50_cases\": \"2020-03-05T00:00:00\", \"days_since_50_cases\": 32.0, \"Ma\\u00dfnahmen\": null, \"absolute_growth\": 1131.0, \"cases_logratio\": 0.04271232801920277, \"num_measures\": 0.0, \"Retail And Recreation\": -56.0, \"Grocery And Pharmacy\": -8.0, \"Parks\": 22.0, \"Transit Stations\": -57.0, \"Workplaces\": -46.0, \"Residential\": 18.0, \"total_activity\": -1.27}, {\"Bundesland\": \"Bayern\", \"Meldedatum\": \"2020-04-07T00:00:00\", \"Neuinfektionen\": 1497.0, \"infections_cumulative\": 28546.0, \"date_50_cases\": \"2020-03-05T00:00:00\", \"days_since_50_cases\": 33.0, \"Ma\\u00dfnahmen\": null, \"absolute_growth\": 1497.0, \"cases_logratio\": 0.053866785175150866, \"num_measures\": 0.0, \"Retail And Recreation\": -56.0, \"Grocery And Pharmacy\": -6.0, \"Parks\": 37.0, \"Transit Stations\": -56.0, \"Workplaces\": -47.0, \"Residential\": 18.0, \"total_activity\": -1.1}, {\"Bundesland\": \"Bayern\", \"Meldedatum\": \"2020-04-08T00:00:00\", \"Neuinfektionen\": 1565.0, \"infections_cumulative\": 30111.0, \"date_50_cases\": \"2020-03-05T00:00:00\", \"days_since_50_cases\": 34.0, \"Ma\\u00dfnahmen\": null, \"absolute_growth\": 1565.0, \"cases_logratio\": 0.05337373229219722, \"num_measures\": 0.0, \"Retail And Recreation\": -55.0, \"Grocery And Pharmacy\": 7.0, \"Parks\": 27.0, \"Transit Stations\": -56.0, \"Workplaces\": -47.0, \"Residential\": 17.0, \"total_activity\": -1.07}, {\"Bundesland\": \"Bayern\", \"Meldedatum\": \"2020-04-09T00:00:00\", \"Neuinfektionen\": 1278.0, \"infections_cumulative\": 31389.0, \"date_50_cases\": \"2020-03-05T00:00:00\", \"days_since_50_cases\": 35.0, \"Ma\\u00dfnahmen\": null, \"absolute_growth\": 1278.0, \"cases_logratio\": 0.04156695956724654, \"num_measures\": 0.0, \"Retail And Recreation\": -53.0, \"Grocery And Pharmacy\": 14.0, \"Parks\": 8.0, \"Transit Stations\": -57.0, \"Workplaces\": -49.0, \"Residential\": 17.0, \"total_activity\": -1.2}, {\"Bundesland\": \"Bayern\", \"Meldedatum\": \"2020-04-10T00:00:00\", \"Neuinfektionen\": 920.0, \"infections_cumulative\": 32309.0, \"date_50_cases\": \"2020-03-05T00:00:00\", \"days_since_50_cases\": 36.0, \"Ma\\u00dfnahmen\": null, \"absolute_growth\": 920.0, \"cases_logratio\": 0.02888831612019338, \"num_measures\": 0.0, \"Retail And Recreation\": -82.0, \"Grocery And Pharmacy\": -93.0, \"Parks\": 39.0, \"Transit Stations\": -75.0, \"Workplaces\": -88.0, \"Residential\": 31.0, \"total_activity\": -2.68}, {\"Bundesland\": \"Bayern\", \"Meldedatum\": \"2020-04-11T00:00:00\", \"Neuinfektionen\": 790.0, \"infections_cumulative\": 33099.0, \"date_50_cases\": \"2020-03-05T00:00:00\", \"days_since_50_cases\": 37.0, \"Ma\\u00dfnahmen\": null, \"absolute_growth\": 790.0, \"cases_logratio\": 0.024157241259064932, \"num_measures\": 0.0, \"Retail And Recreation\": -67.0, \"Grocery And Pharmacy\": -2.0, \"Parks\": 5.0, \"Transit Stations\": -57.0, \"Workplaces\": -35.0, \"Residential\": 12.0, \"total_activity\": -1.44}, {\"Bundesland\": \"Bayern\", \"Meldedatum\": \"2020-04-12T00:00:00\", \"Neuinfektionen\": 414.0, \"infections_cumulative\": 33513.0, \"date_50_cases\": \"2020-03-05T00:00:00\", \"days_since_50_cases\": 38.0, \"Ma\\u00dfnahmen\": null, \"absolute_growth\": 414.0, \"cases_logratio\": 0.012430352810541834, \"num_measures\": 0.0, \"Retail And Recreation\": null, \"Grocery And Pharmacy\": null, \"Parks\": null, \"Transit Stations\": null, \"Workplaces\": null, \"Residential\": null, \"total_activity\": 0.0}, {\"Bundesland\": \"Bayern\", \"Meldedatum\": \"2020-04-13T00:00:00\", \"Neuinfektionen\": 458.0, \"infections_cumulative\": 33971.0, \"date_50_cases\": \"2020-03-05T00:00:00\", \"days_since_50_cases\": 39.0, \"Ma\\u00dfnahmen\": null, \"absolute_growth\": 458.0, \"cases_logratio\": 0.0135737962215714, \"num_measures\": 0.0, \"Retail And Recreation\": null, \"Grocery And Pharmacy\": null, \"Parks\": null, \"Transit Stations\": null, \"Workplaces\": null, \"Residential\": null, \"total_activity\": 0.0}, {\"Bundesland\": \"Bayern\", \"Meldedatum\": \"2020-04-14T00:00:00\", \"Neuinfektionen\": 737.0, \"infections_cumulative\": 34708.0, \"date_50_cases\": \"2020-03-05T00:00:00\", \"days_since_50_cases\": 40.0, \"Ma\\u00dfnahmen\": null, \"absolute_growth\": 737.0, \"cases_logratio\": 0.02146298845285166, \"num_measures\": 0.0, \"Retail And Recreation\": null, \"Grocery And Pharmacy\": null, \"Parks\": null, \"Transit Stations\": null, \"Workplaces\": null, \"Residential\": null, \"total_activity\": 0.0}, {\"Bundesland\": \"Bayern\", \"Meldedatum\": \"2020-04-15T00:00:00\", \"Neuinfektionen\": 909.0, \"infections_cumulative\": 35617.0, \"date_50_cases\": \"2020-03-05T00:00:00\", \"days_since_50_cases\": 41.0, \"Ma\\u00dfnahmen\": null, \"absolute_growth\": 909.0, \"cases_logratio\": 0.025852844036375444, \"num_measures\": 0.0, \"Retail And Recreation\": null, \"Grocery And Pharmacy\": null, \"Parks\": null, \"Transit Stations\": null, \"Workplaces\": null, \"Residential\": null, \"total_activity\": 0.0}, {\"Bundesland\": \"Bayern\", \"Meldedatum\": \"2020-04-16T00:00:00\", \"Neuinfektionen\": 866.0, \"infections_cumulative\": 36483.0, \"date_50_cases\": \"2020-03-05T00:00:00\", \"days_since_50_cases\": 42.0, \"Ma\\u00dfnahmen\": null, \"absolute_growth\": 866.0, \"cases_logratio\": 0.024023346699353354, \"num_measures\": 0.0, \"Retail And Recreation\": null, \"Grocery And Pharmacy\": null, \"Parks\": null, \"Transit Stations\": null, \"Workplaces\": null, \"Residential\": null, \"total_activity\": 0.0}, {\"Bundesland\": \"Bayern\", \"Meldedatum\": \"2020-04-17T00:00:00\", \"Neuinfektionen\": 804.0, \"infections_cumulative\": 37287.0, \"date_50_cases\": \"2020-03-05T00:00:00\", \"days_since_50_cases\": 43.0, \"Ma\\u00dfnahmen\": null, \"absolute_growth\": 804.0, \"cases_logratio\": 0.02179834176451223, \"num_measures\": 0.0, \"Retail And Recreation\": null, \"Grocery And Pharmacy\": null, \"Parks\": null, \"Transit Stations\": null, \"Workplaces\": null, \"Residential\": null, \"total_activity\": 0.0}, {\"Bundesland\": \"Bayern\", \"Meldedatum\": \"2020-04-18T00:00:00\", \"Neuinfektionen\": 478.0, \"infections_cumulative\": 37765.0, \"date_50_cases\": \"2020-03-05T00:00:00\", \"days_since_50_cases\": 44.0, \"Ma\\u00dfnahmen\": null, \"absolute_growth\": 478.0, \"cases_logratio\": 0.012738007333926049, \"num_measures\": 0.0, \"Retail And Recreation\": null, \"Grocery And Pharmacy\": null, \"Parks\": null, \"Transit Stations\": null, \"Workplaces\": null, \"Residential\": null, \"total_activity\": 0.0}, {\"Bundesland\": \"Bayern\", \"Meldedatum\": \"2020-04-19T00:00:00\", \"Neuinfektionen\": 398.0, \"infections_cumulative\": 38163.0, \"date_50_cases\": \"2020-03-05T00:00:00\", \"days_since_50_cases\": 45.0, \"Ma\\u00dfnahmen\": null, \"absolute_growth\": 398.0, \"cases_logratio\": 0.010483712076773344, \"num_measures\": 0.0, \"Retail And Recreation\": null, \"Grocery And Pharmacy\": null, \"Parks\": null, \"Transit Stations\": null, \"Workplaces\": null, \"Residential\": null, \"total_activity\": 0.0}, {\"Bundesland\": \"Bayern\", \"Meldedatum\": \"2020-04-20T00:00:00\", \"Neuinfektionen\": 402.0, \"infections_cumulative\": 38565.0, \"date_50_cases\": \"2020-03-05T00:00:00\", \"days_since_50_cases\": 46.0, \"Ma\\u00dfnahmen\": null, \"absolute_growth\": 402.0, \"cases_logratio\": 0.010478669543777741, \"num_measures\": 0.0, \"Retail And Recreation\": null, \"Grocery And Pharmacy\": null, \"Parks\": null, \"Transit Stations\": null, \"Workplaces\": null, \"Residential\": null, \"total_activity\": 0.0}, {\"Bundesland\": \"Bayern\", \"Meldedatum\": \"2020-04-21T00:00:00\", \"Neuinfektionen\": 510.0, \"infections_cumulative\": 39075.0, \"date_50_cases\": \"2020-03-05T00:00:00\", \"days_since_50_cases\": 47.0, \"Ma\\u00dfnahmen\": null, \"absolute_growth\": 510.0, \"cases_logratio\": 0.013137746921579208, \"num_measures\": 0.0, \"Retail And Recreation\": null, \"Grocery And Pharmacy\": null, \"Parks\": null, \"Transit Stations\": null, \"Workplaces\": null, \"Residential\": null, \"total_activity\": 0.0}, {\"Bundesland\": \"Bayern\", \"Meldedatum\": \"2020-04-22T00:00:00\", \"Neuinfektionen\": 568.0, \"infections_cumulative\": 39643.0, \"date_50_cases\": \"2020-03-05T00:00:00\", \"days_since_50_cases\": 48.0, \"Ma\\u00dfnahmen\": null, \"absolute_growth\": 568.0, \"cases_logratio\": 0.014431511420745835, \"num_measures\": 0.0, \"Retail And Recreation\": null, \"Grocery And Pharmacy\": null, \"Parks\": null, \"Transit Stations\": null, \"Workplaces\": null, \"Residential\": null, \"total_activity\": 0.0}, {\"Bundesland\": \"Bayern\", \"Meldedatum\": \"2020-04-23T00:00:00\", \"Neuinfektionen\": 280.0, \"infections_cumulative\": 39923.0, \"date_50_cases\": \"2020-03-05T00:00:00\", \"days_since_50_cases\": 49.0, \"Ma\\u00dfnahmen\": null, \"absolute_growth\": 280.0, \"cases_logratio\": 0.007038211191934707, \"num_measures\": 0.0, \"Retail And Recreation\": null, \"Grocery And Pharmacy\": null, \"Parks\": null, \"Transit Stations\": null, \"Workplaces\": null, \"Residential\": null, \"total_activity\": 0.0}]}}, {\"mode\": \"vega-lite\"});\n",
       "</script>"
      ],
      "text/plain": [
       "alt.LayerChart(...)"
      ]
     },
     "execution_count": 20,
     "metadata": {},
     "output_type": "execute_result"
    }
   ],
   "source": [
    "plot_infection_activity_summary(\n",
    "    df=plot_df,\n",
    "    state=\"Bayern\",\n",
    "    x_var=\"Meldedatum\",\n",
    "    x_title=\"Date\",\n",
    "    y_var=\"absolute_growth\",\n",
    "    y_title=\"Absolute Growth in Cumulative Cases\",\n",
    "    max_activity=max_activity,\n",
    ")"
   ]
  },
  {
   "cell_type": "code",
   "execution_count": 21,
   "metadata": {
    "ExecuteTime": {
     "end_time": "2020-04-24T19:14:24.476321Z",
     "start_time": "2020-04-24T19:14:24.366142Z"
    }
   },
   "outputs": [
    {
     "data": {
      "text/html": [
       "\n",
       "<div id=\"altair-viz-0134e10cf6a340f78835b1cfa3b49a6a\"></div>\n",
       "<script type=\"text/javascript\">\n",
       "  (function(spec, embedOpt){\n",
       "    const outputDiv = document.getElementById(\"altair-viz-0134e10cf6a340f78835b1cfa3b49a6a\");\n",
       "    const paths = {\n",
       "      \"vega\": \"https://cdn.jsdelivr.net/npm//vega@5?noext\",\n",
       "      \"vega-lib\": \"https://cdn.jsdelivr.net/npm//vega-lib?noext\",\n",
       "      \"vega-lite\": \"https://cdn.jsdelivr.net/npm//vega-lite@4.0.2?noext\",\n",
       "      \"vega-embed\": \"https://cdn.jsdelivr.net/npm//vega-embed@6?noext\",\n",
       "    };\n",
       "\n",
       "    function loadScript(lib) {\n",
       "      return new Promise(function(resolve, reject) {\n",
       "        var s = document.createElement('script');\n",
       "        s.src = paths[lib];\n",
       "        s.async = true;\n",
       "        s.onload = () => resolve(paths[lib]);\n",
       "        s.onerror = () => reject(`Error loading script: ${paths[lib]}`);\n",
       "        document.getElementsByTagName(\"head\")[0].appendChild(s);\n",
       "      });\n",
       "    }\n",
       "\n",
       "    function showError(err) {\n",
       "      outputDiv.innerHTML = `<div class=\"error\" style=\"color:red;\">${err}</div>`;\n",
       "      throw err;\n",
       "    }\n",
       "\n",
       "    function displayChart(vegaEmbed) {\n",
       "      vegaEmbed(outputDiv, spec, embedOpt)\n",
       "        .catch(err => showError(`Javascript Error: ${err.message}<br>This usually means there's a typo in your chart specification. See the javascript console for the full traceback.`));\n",
       "    }\n",
       "\n",
       "    if(typeof define === \"function\" && define.amd) {\n",
       "      requirejs.config({paths});\n",
       "      require([\"vega-embed\"], displayChart, err => showError(`Error loading script: ${err.message}`));\n",
       "    } else if (typeof vegaEmbed === \"function\") {\n",
       "      displayChart(vegaEmbed);\n",
       "    } else {\n",
       "      loadScript(\"vega\")\n",
       "        .then(() => loadScript(\"vega-lite\"))\n",
       "        .then(() => loadScript(\"vega-embed\"))\n",
       "        .catch(showError)\n",
       "        .then(() => displayChart(vegaEmbed));\n",
       "    }\n",
       "  })({\"config\": {\"view\": {\"continuousWidth\": 400, \"continuousHeight\": 300}, \"axis\": {\"grid\": true}}, \"hconcat\": [{\"mark\": \"area\", \"encoding\": {\"color\": {\"condition\": {\"type\": \"nominal\", \"field\": \"Mobility Category\", \"legend\": null, \"scale\": {\"scheme\": \"blues\"}, \"selection\": \"selector002\"}, \"value\": \"lightgray\"}, \"opacity\": {\"value\": 0.8}, \"x\": {\"type\": \"temporal\", \"axis\": {\"format\": \"%b %d\", \"grid\": false, \"offset\": 0, \"title\": \"Date\", \"values\": [\"2020-03-01\", \"2020-03-08\", \"2020-03-15\", \"2020-03-22\", \"2020-03-29\", \"2020-04-05\", \"2020-04-12\", \"2020-04-19\"]}, \"field\": \"Meldedatum\"}, \"y\": {\"type\": \"quantitative\", \"axis\": {\"format\": \"%\", \"orient\": \"right\"}, \"field\": \"Google Mobility Index\", \"scale\": {\"domain\": [-3.5, 3.5]}}}, \"height\": 300, \"title\": \"Bayern: Detailed Mobility Report\", \"transform\": [{\"fold\": [\"Retail And Recreation\", \"Grocery And Pharmacy\", \"Parks\", \"Transit Stations\", \"Workplaces\", \"Residential\"], \"as\": [\"Mobility Category\", \"mobility_change_percent\"]}, {\"calculate\": \"datum.mobility_change_percent / 100\", \"as\": \"Google Mobility Index\"}], \"width\": 900}, {\"mark\": \"point\", \"encoding\": {\"color\": {\"condition\": {\"type\": \"nominal\", \"field\": \"Mobility Category\", \"legend\": null, \"scale\": {\"scheme\": \"blues\"}, \"selection\": \"selector002\"}, \"value\": \"lightgray\"}, \"y\": {\"type\": \"nominal\", \"axis\": {\"grid\": false, \"offset\": 2, \"orient\": \"right\", \"ticks\": false}, \"field\": \"Mobility Category\", \"title\": \"Click to select\"}}, \"selection\": {\"selector002\": {\"type\": \"multi\", \"fields\": [\"Mobility Category\"]}}, \"title\": \"Category\", \"transform\": [{\"fold\": [\"Retail And Recreation\", \"Grocery And Pharmacy\", \"Parks\", \"Transit Stations\", \"Workplaces\", \"Residential\"], \"as\": [\"Mobility Category\", \"mobility_change_percent\"]}, {\"calculate\": \"datum.mobility_change_percent / 100\", \"as\": \"Google Mobility Index\"}]}], \"data\": {\"name\": \"data-3b299621e9eb2bd489d57e9fe68d91a5\"}, \"$schema\": \"https://vega.github.io/schema/vega-lite/v4.0.2.json\", \"datasets\": {\"data-3b299621e9eb2bd489d57e9fe68d91a5\": [{\"Bundesland\": \"Bayern\", \"Meldedatum\": \"2020-03-01T00:00:00\", \"Neuinfektionen\": 3.0, \"infections_cumulative\": 25.0, \"date_50_cases\": \"2020-03-05T00:00:00\", \"days_since_50_cases\": -4.0, \"Ma\\u00dfnahmen\": null, \"absolute_growth\": 3.0, \"cases_logratio\": 0.1278333715098845, \"num_measures\": 0.0, \"Retail And Recreation\": 11.0, \"Grocery And Pharmacy\": 27.0, \"Parks\": 29.0, \"Transit Stations\": 6.0, \"Workplaces\": 1.0, \"Residential\": -1.0, \"total_activity\": 0.73}, {\"Bundesland\": \"Bayern\", \"Meldedatum\": \"2020-03-02T00:00:00\", \"Neuinfektionen\": 6.0, \"infections_cumulative\": 31.0, \"date_50_cases\": \"2020-03-05T00:00:00\", \"days_since_50_cases\": -3.0, \"Ma\\u00dfnahmen\": null, \"absolute_growth\": 6.0, \"cases_logratio\": 0.2151113796169457, \"num_measures\": 0.0, \"Retail And Recreation\": 1.0, \"Grocery And Pharmacy\": 10.0, \"Parks\": 10.0, \"Transit Stations\": -3.0, \"Workplaces\": 0.0, \"Residential\": 0.0, \"total_activity\": 0.18}, {\"Bundesland\": \"Bayern\", \"Meldedatum\": \"2020-03-03T00:00:00\", \"Neuinfektionen\": 6.0, \"infections_cumulative\": 37.0, \"date_50_cases\": \"2020-03-05T00:00:00\", \"days_since_50_cases\": -2.0, \"Ma\\u00dfnahmen\": null, \"absolute_growth\": 6.0, \"cases_logratio\": 0.17693070815907808, \"num_measures\": 0.0, \"Retail And Recreation\": -2.0, \"Grocery And Pharmacy\": 5.0, \"Parks\": 5.0, \"Transit Stations\": -7.0, \"Workplaces\": 0.0, \"Residential\": 1.0, \"total_activity\": 0.02}, {\"Bundesland\": \"Bayern\", \"Meldedatum\": \"2020-03-04T00:00:00\", \"Neuinfektionen\": 10.0, \"infections_cumulative\": 47.0, \"date_50_cases\": \"2020-03-05T00:00:00\", \"days_since_50_cases\": -1.0, \"Ma\\u00dfnahmen\": null, \"absolute_growth\": 10.0, \"cases_logratio\": 0.23922968906583408, \"num_measures\": 0.0, \"Retail And Recreation\": -2.0, \"Grocery And Pharmacy\": 2.0, \"Parks\": 7.0, \"Transit Stations\": -6.0, \"Workplaces\": 0.0, \"Residential\": 1.0, \"total_activity\": 0.02}, {\"Bundesland\": \"Bayern\", \"Meldedatum\": \"2020-03-05T00:00:00\", \"Neuinfektionen\": 22.0, \"infections_cumulative\": 69.0, \"date_50_cases\": \"2020-03-05T00:00:00\", \"days_since_50_cases\": 0.0, \"Ma\\u00dfnahmen\": null, \"absolute_growth\": 22.0, \"cases_logratio\": 0.38395890288720125, \"num_measures\": 0.0, \"Retail And Recreation\": -6.0, \"Grocery And Pharmacy\": 0.0, \"Parks\": -14.0, \"Transit Stations\": -9.0, \"Workplaces\": -1.0, \"Residential\": 1.0, \"total_activity\": -0.29}, {\"Bundesland\": \"Bayern\", \"Meldedatum\": \"2020-03-06T00:00:00\", \"Neuinfektionen\": 49.0, \"infections_cumulative\": 118.0, \"date_50_cases\": \"2020-03-05T00:00:00\", \"days_since_50_cases\": 1.0, \"Ma\\u00dfnahmen\": null, \"absolute_growth\": 49.0, \"cases_logratio\": 0.5365781198684054, \"num_measures\": 0.0, \"Retail And Recreation\": -6.0, \"Grocery And Pharmacy\": 1.0, \"Parks\": -14.0, \"Transit Stations\": -9.0, \"Workplaces\": -1.0, \"Residential\": 2.0, \"total_activity\": -0.27}, {\"Bundesland\": \"Bayern\", \"Meldedatum\": \"2020-03-07T00:00:00\", \"Neuinfektionen\": 17.0, \"infections_cumulative\": 135.0, \"date_50_cases\": \"2020-03-05T00:00:00\", \"days_since_50_cases\": 2.0, \"Ma\\u00dfnahmen\": null, \"absolute_growth\": 17.0, \"cases_logratio\": 0.13459015397276453, \"num_measures\": 0.0, \"Retail And Recreation\": -3.0, \"Grocery And Pharmacy\": 0.0, \"Parks\": -11.0, \"Transit Stations\": -7.0, \"Workplaces\": 0.0, \"Residential\": 1.0, \"total_activity\": -0.2}, {\"Bundesland\": \"Bayern\", \"Meldedatum\": \"2020-03-08T00:00:00\", \"Neuinfektionen\": 19.0, \"infections_cumulative\": 154.0, \"date_50_cases\": \"2020-03-05T00:00:00\", \"days_since_50_cases\": 3.0, \"Ma\\u00dfnahmen\": null, \"absolute_growth\": 19.0, \"cases_logratio\": 0.1316778239751999, \"num_measures\": 0.0, \"Retail And Recreation\": 20.0, \"Grocery And Pharmacy\": 39.0, \"Parks\": 47.0, \"Transit Stations\": 4.0, \"Workplaces\": 1.0, \"Residential\": -1.0, \"total_activity\": 1.1}, {\"Bundesland\": \"Bayern\", \"Meldedatum\": \"2020-03-09T00:00:00\", \"Neuinfektionen\": 84.0, \"infections_cumulative\": 238.0, \"date_50_cases\": \"2020-03-05T00:00:00\", \"days_since_50_cases\": 4.0, \"Ma\\u00dfnahmen\": null, \"absolute_growth\": 84.0, \"cases_logratio\": 0.4353180712578455, \"num_measures\": 0.0, \"Retail And Recreation\": -3.0, \"Grocery And Pharmacy\": 3.0, \"Parks\": 0.0, \"Transit Stations\": -10.0, \"Workplaces\": -1.0, \"Residential\": 1.0, \"total_activity\": -0.1}, {\"Bundesland\": \"Bayern\", \"Meldedatum\": \"2020-03-10T00:00:00\", \"Neuinfektionen\": 101.0, \"infections_cumulative\": 339.0, \"date_50_cases\": \"2020-03-05T00:00:00\", \"days_since_50_cases\": 5.0, \"Ma\\u00dfnahmen\": null, \"absolute_growth\": 101.0, \"cases_logratio\": 0.3537294337089749, \"num_measures\": 0.0, \"Retail And Recreation\": -9.0, \"Grocery And Pharmacy\": -2.0, \"Parks\": -14.0, \"Transit Stations\": -13.0, \"Workplaces\": -1.0, \"Residential\": 3.0, \"total_activity\": -0.36}, {\"Bundesland\": \"Bayern\", \"Meldedatum\": \"2020-03-11T00:00:00\", \"Neuinfektionen\": 112.0, \"infections_cumulative\": 451.0, \"date_50_cases\": \"2020-03-05T00:00:00\", \"days_since_50_cases\": 6.0, \"Ma\\u00dfnahmen\": \"Social Distancing (Kneipen, Abendprogramme, Kultur, Sport) und Veranstaltungs-/Versammlungsverbot\", \"absolute_growth\": 112.0, \"cases_logratio\": 0.2854672321222287, \"num_measures\": 2.0, \"Retail And Recreation\": -4.0, \"Grocery And Pharmacy\": 3.0, \"Parks\": 11.0, \"Transit Stations\": -10.0, \"Workplaces\": -2.0, \"Residential\": 2.0, \"total_activity\": 0.0}, {\"Bundesland\": \"Bayern\", \"Meldedatum\": \"2020-03-12T00:00:00\", \"Neuinfektionen\": 129.0, \"infections_cumulative\": 580.0, \"date_50_cases\": \"2020-03-05T00:00:00\", \"days_since_50_cases\": 7.0, \"Ma\\u00dfnahmen\": null, \"absolute_growth\": 129.0, \"cases_logratio\": 0.2515607640377864, \"num_measures\": 0.0, \"Retail And Recreation\": -6.0, \"Grocery And Pharmacy\": 6.0, \"Parks\": 5.0, \"Transit Stations\": -13.0, \"Workplaces\": -3.0, \"Residential\": 2.0, \"total_activity\": -0.09}, {\"Bundesland\": \"Bayern\", \"Meldedatum\": \"2020-03-13T00:00:00\", \"Neuinfektionen\": 246.0, \"infections_cumulative\": 826.0, \"date_50_cases\": \"2020-03-05T00:00:00\", \"days_since_50_cases\": 8.0, \"Ma\\u00dfnahmen\": \"Schlie\\u00dfung Bildungseinrichtungen / Kitas\", \"absolute_growth\": 246.0, \"cases_logratio\": 0.35356666998051267, \"num_measures\": 1.0, \"Retail And Recreation\": -12.0, \"Grocery And Pharmacy\": 22.0, \"Parks\": -2.0, \"Transit Stations\": -17.0, \"Workplaces\": -5.0, \"Residential\": 3.0, \"total_activity\": -0.11}, {\"Bundesland\": \"Bayern\", \"Meldedatum\": \"2020-03-14T00:00:00\", \"Neuinfektionen\": 231.0, \"infections_cumulative\": 1057.0, \"date_50_cases\": \"2020-03-05T00:00:00\", \"days_since_50_cases\": 9.0, \"Ma\\u00dfnahmen\": \"Isolation von Kranken / Gef\\u00e4hrdeten\", \"absolute_growth\": 231.0, \"cases_logratio\": 0.24659521234926007, \"num_measures\": 1.0, \"Retail And Recreation\": -19.0, \"Grocery And Pharmacy\": 9.0, \"Parks\": 3.0, \"Transit Stations\": -24.0, \"Workplaces\": -4.0, \"Residential\": 4.0, \"total_activity\": -0.31}, {\"Bundesland\": \"Bayern\", \"Meldedatum\": \"2020-03-15T00:00:00\", \"Neuinfektionen\": 156.0, \"infections_cumulative\": 1213.0, \"date_50_cases\": \"2020-03-05T00:00:00\", \"days_since_50_cases\": 10.0, \"Ma\\u00dfnahmen\": null, \"absolute_growth\": 156.0, \"cases_logratio\": 0.13766192307381253, \"num_measures\": 0.0, \"Retail And Recreation\": -3.0, \"Grocery And Pharmacy\": 30.0, \"Parks\": 75.0, \"Transit Stations\": -15.0, \"Workplaces\": -2.0, \"Residential\": 2.0, \"total_activity\": 0.87}, {\"Bundesland\": \"Bayern\", \"Meldedatum\": \"2020-03-16T00:00:00\", \"Neuinfektionen\": 264.0, \"infections_cumulative\": 1477.0, \"date_50_cases\": \"2020-03-05T00:00:00\", \"days_since_50_cases\": 11.0, \"Ma\\u00dfnahmen\": null, \"absolute_growth\": 264.0, \"cases_logratio\": 0.19691637358732983, \"num_measures\": 0.0, \"Retail And Recreation\": -4.0, \"Grocery And Pharmacy\": 25.0, \"Parks\": 39.0, \"Transit Stations\": -31.0, \"Workplaces\": -20.0, \"Residential\": 7.0, \"total_activity\": 0.16}, {\"Bundesland\": \"Bayern\", \"Meldedatum\": \"2020-03-17T00:00:00\", \"Neuinfektionen\": 459.0, \"infections_cumulative\": 1936.0, \"date_50_cases\": \"2020-03-05T00:00:00\", \"days_since_50_cases\": 12.0, \"Ma\\u00dfnahmen\": null, \"absolute_growth\": 459.0, \"cases_logratio\": 0.27061098530514194, \"num_measures\": 0.0, \"Retail And Recreation\": -24.0, \"Grocery And Pharmacy\": 6.0, \"Parks\": 11.0, \"Transit Stations\": -41.0, \"Workplaces\": -26.0, \"Residential\": 11.0, \"total_activity\": -0.63}, {\"Bundesland\": \"Bayern\", \"Meldedatum\": \"2020-03-18T00:00:00\", \"Neuinfektionen\": 700.0, \"infections_cumulative\": 2636.0, \"date_50_cases\": \"2020-03-05T00:00:00\", \"days_since_50_cases\": 13.0, \"Ma\\u00dfnahmen\": \"Isolation von Kranken / Gef\\u00e4hrdeten und Beschr\\u00e4nkung Restaurants\", \"absolute_growth\": 700.0, \"cases_logratio\": 0.3086386277858759, \"num_measures\": 2.0, \"Retail And Recreation\": -42.0, \"Grocery And Pharmacy\": -2.0, \"Parks\": 41.0, \"Transit Stations\": -44.0, \"Workplaces\": -31.0, \"Residential\": 12.0, \"total_activity\": -0.66}, {\"Bundesland\": \"Bayern\", \"Meldedatum\": \"2020-03-19T00:00:00\", \"Neuinfektionen\": 773.0, \"infections_cumulative\": 3409.0, \"date_50_cases\": \"2020-03-05T00:00:00\", \"days_since_50_cases\": 14.0, \"Ma\\u00dfnahmen\": null, \"absolute_growth\": 773.0, \"cases_logratio\": 0.25715637651550516, \"num_measures\": 0.0, \"Retail And Recreation\": -48.0, \"Grocery And Pharmacy\": -6.0, \"Parks\": 16.0, \"Transit Stations\": -50.0, \"Workplaces\": -34.0, \"Residential\": 14.0, \"total_activity\": -1.08}, {\"Bundesland\": \"Bayern\", \"Meldedatum\": \"2020-03-20T00:00:00\", \"Neuinfektionen\": 900.0, \"infections_cumulative\": 4309.0, \"date_50_cases\": \"2020-03-05T00:00:00\", \"days_since_50_cases\": 15.0, \"Ma\\u00dfnahmen\": null, \"absolute_growth\": 900.0, \"cases_logratio\": 0.23428686547793554, \"num_measures\": 0.0, \"Retail And Recreation\": -49.0, \"Grocery And Pharmacy\": 4.0, \"Parks\": -3.0, \"Transit Stations\": -52.0, \"Workplaces\": -36.0, \"Residential\": 15.0, \"total_activity\": -1.21}, {\"Bundesland\": \"Bayern\", \"Meldedatum\": \"2020-03-21T00:00:00\", \"Neuinfektionen\": 1056.0, \"infections_cumulative\": 5365.0, \"date_50_cases\": \"2020-03-05T00:00:00\", \"days_since_50_cases\": 16.0, \"Ma\\u00dfnahmen\": \"Ausgangsbeschr\\u00e4nkung\", \"absolute_growth\": 1056.0, \"cases_logratio\": 0.21919051744895945, \"num_measures\": 1.0, \"Retail And Recreation\": -85.0, \"Grocery And Pharmacy\": -43.0, \"Parks\": -72.0, \"Transit Stations\": -74.0, \"Workplaces\": -40.0, \"Residential\": 17.0, \"total_activity\": -2.97}, {\"Bundesland\": \"Bayern\", \"Meldedatum\": \"2020-03-22T00:00:00\", \"Neuinfektionen\": 602.0, \"infections_cumulative\": 5967.0, \"date_50_cases\": \"2020-03-05T00:00:00\", \"days_since_50_cases\": 17.0, \"Ma\\u00dfnahmen\": null, \"absolute_growth\": 602.0, \"cases_logratio\": 0.10634791245728437, \"num_measures\": 0.0, \"Retail And Recreation\": -81.0, \"Grocery And Pharmacy\": -48.0, \"Parks\": -36.0, \"Transit Stations\": -71.0, \"Workplaces\": -43.0, \"Residential\": 12.0, \"total_activity\": -2.67}, {\"Bundesland\": \"Bayern\", \"Meldedatum\": \"2020-03-23T00:00:00\", \"Neuinfektionen\": 679.0, \"infections_cumulative\": 6646.0, \"date_50_cases\": \"2020-03-05T00:00:00\", \"days_since_50_cases\": 18.0, \"Ma\\u00dfnahmen\": null, \"absolute_growth\": 679.0, \"cases_logratio\": 0.10777088139245627, \"num_measures\": 0.0, \"Retail And Recreation\": -67.0, \"Grocery And Pharmacy\": -20.0, \"Parks\": -24.0, \"Transit Stations\": -63.0, \"Workplaces\": -43.0, \"Residential\": 19.0, \"total_activity\": -1.98}, {\"Bundesland\": \"Bayern\", \"Meldedatum\": \"2020-03-24T00:00:00\", \"Neuinfektionen\": 1138.0, \"infections_cumulative\": 7784.0, \"date_50_cases\": \"2020-03-05T00:00:00\", \"days_since_50_cases\": 19.0, \"Ma\\u00dfnahmen\": null, \"absolute_growth\": 1138.0, \"cases_logratio\": 0.1580551749513024, \"num_measures\": 0.0, \"Retail And Recreation\": -67.0, \"Grocery And Pharmacy\": -23.0, \"Parks\": -9.0, \"Transit Stations\": -63.0, \"Workplaces\": -45.0, \"Residential\": 20.0, \"total_activity\": -1.87}, {\"Bundesland\": \"Bayern\", \"Meldedatum\": \"2020-03-25T00:00:00\", \"Neuinfektionen\": 1622.0, \"infections_cumulative\": 9406.0, \"date_50_cases\": \"2020-03-05T00:00:00\", \"days_since_50_cases\": 20.0, \"Ma\\u00dfnahmen\": null, \"absolute_growth\": 1622.0, \"cases_logratio\": 0.18927743863915225, \"num_measures\": 0.0, \"Retail And Recreation\": -68.0, \"Grocery And Pharmacy\": -23.0, \"Parks\": -19.0, \"Transit Stations\": -63.0, \"Workplaces\": -46.0, \"Residential\": 20.0, \"total_activity\": -1.99}, {\"Bundesland\": \"Bayern\", \"Meldedatum\": \"2020-03-26T00:00:00\", \"Neuinfektionen\": 1633.0, \"infections_cumulative\": 11039.0, \"date_50_cases\": \"2020-03-05T00:00:00\", \"days_since_50_cases\": 21.0, \"Ma\\u00dfnahmen\": null, \"absolute_growth\": 1633.0, \"cases_logratio\": 0.1600866735133586, \"num_measures\": 0.0, \"Retail And Recreation\": -69.0, \"Grocery And Pharmacy\": -21.0, \"Parks\": -33.0, \"Transit Stations\": -65.0, \"Workplaces\": -47.0, \"Residential\": 21.0, \"total_activity\": -2.14}, {\"Bundesland\": \"Bayern\", \"Meldedatum\": \"2020-03-27T00:00:00\", \"Neuinfektionen\": 1771.0, \"infections_cumulative\": 12810.0, \"date_50_cases\": \"2020-03-05T00:00:00\", \"days_since_50_cases\": 22.0, \"Ma\\u00dfnahmen\": null, \"absolute_growth\": 1771.0, \"cases_logratio\": 0.14879165887242785, \"num_measures\": 0.0, \"Retail And Recreation\": -68.0, \"Grocery And Pharmacy\": -17.0, \"Parks\": -3.0, \"Transit Stations\": -63.0, \"Workplaces\": -46.0, \"Residential\": 21.0, \"total_activity\": -1.76}, {\"Bundesland\": \"Bayern\", \"Meldedatum\": \"2020-03-28T00:00:00\", \"Neuinfektionen\": 1459.0, \"infections_cumulative\": 14269.0, \"date_50_cases\": \"2020-03-05T00:00:00\", \"days_since_50_cases\": 23.0, \"Ma\\u00dfnahmen\": null, \"absolute_growth\": 1459.0, \"cases_logratio\": 0.10786323603979575, \"num_measures\": 0.0, \"Retail And Recreation\": -75.0, \"Grocery And Pharmacy\": -23.0, \"Parks\": 6.0, \"Transit Stations\": -62.0, \"Workplaces\": -38.0, \"Residential\": 14.0, \"total_activity\": -1.78}, {\"Bundesland\": \"Bayern\", \"Meldedatum\": \"2020-03-29T00:00:00\", \"Neuinfektionen\": 863.0, \"infections_cumulative\": 15132.0, \"date_50_cases\": \"2020-03-05T00:00:00\", \"days_since_50_cases\": 24.0, \"Ma\\u00dfnahmen\": null, \"absolute_growth\": 863.0, \"cases_logratio\": 0.05872235482234345, \"num_measures\": 0.0, \"Retail And Recreation\": -80.0, \"Grocery And Pharmacy\": -49.0, \"Parks\": -50.0, \"Transit Stations\": -73.0, \"Workplaces\": -43.0, \"Residential\": 12.0, \"total_activity\": -2.83}, {\"Bundesland\": \"Bayern\", \"Meldedatum\": \"2020-03-30T00:00:00\", \"Neuinfektionen\": 1007.0, \"infections_cumulative\": 16139.0, \"date_50_cases\": \"2020-03-05T00:00:00\", \"days_since_50_cases\": 25.0, \"Ma\\u00dfnahmen\": null, \"absolute_growth\": 1007.0, \"cases_logratio\": 0.06442699628290427, \"num_measures\": 0.0, \"Retail And Recreation\": -63.0, \"Grocery And Pharmacy\": -18.0, \"Parks\": -21.0, \"Transit Stations\": -62.0, \"Workplaces\": -45.0, \"Residential\": 19.0, \"total_activity\": -1.9}, {\"Bundesland\": \"Bayern\", \"Meldedatum\": \"2020-03-31T00:00:00\", \"Neuinfektionen\": 1775.0, \"infections_cumulative\": 17914.0, \"date_50_cases\": \"2020-03-05T00:00:00\", \"days_since_50_cases\": 26.0, \"Ma\\u00dfnahmen\": null, \"absolute_growth\": 1775.0, \"cases_logratio\": 0.1043438269993171, \"num_measures\": 0.0, \"Retail And Recreation\": -63.0, \"Grocery And Pharmacy\": -17.0, \"Parks\": -13.0, \"Transit Stations\": -60.0, \"Workplaces\": -45.0, \"Residential\": 20.0, \"total_activity\": -1.78}, {\"Bundesland\": \"Bayern\", \"Meldedatum\": \"2020-04-01T00:00:00\", \"Neuinfektionen\": 1958.0, \"infections_cumulative\": 19872.0, \"date_50_cases\": \"2020-03-05T00:00:00\", \"days_since_50_cases\": 27.0, \"Ma\\u00dfnahmen\": null, \"absolute_growth\": 1958.0, \"cases_logratio\": 0.10372917569806539, \"num_measures\": 0.0, \"Retail And Recreation\": -62.0, \"Grocery And Pharmacy\": -16.0, \"Parks\": 6.0, \"Transit Stations\": -59.0, \"Workplaces\": -45.0, \"Residential\": 19.0, \"total_activity\": -1.57}, {\"Bundesland\": \"Bayern\", \"Meldedatum\": \"2020-04-02T00:00:00\", \"Neuinfektionen\": 1953.0, \"infections_cumulative\": 21825.0, \"date_50_cases\": \"2020-03-05T00:00:00\", \"days_since_50_cases\": 28.0, \"Ma\\u00dfnahmen\": null, \"absolute_growth\": 1953.0, \"cases_logratio\": 0.09374439597459805, \"num_measures\": 0.0, \"Retail And Recreation\": -62.0, \"Grocery And Pharmacy\": -14.0, \"Parks\": -2.0, \"Transit Stations\": -60.0, \"Workplaces\": -46.0, \"Residential\": 19.0, \"total_activity\": -1.65}, {\"Bundesland\": \"Bayern\", \"Meldedatum\": \"2020-04-03T00:00:00\", \"Neuinfektionen\": 1972.0, \"infections_cumulative\": 23797.0, \"date_50_cases\": \"2020-03-05T00:00:00\", \"days_since_50_cases\": 29.0, \"Ma\\u00dfnahmen\": null, \"absolute_growth\": 1972.0, \"cases_logratio\": 0.08650342058657223, \"num_measures\": 0.0, \"Retail And Recreation\": -67.0, \"Grocery And Pharmacy\": -13.0, \"Parks\": -25.0, \"Transit Stations\": -63.0, \"Workplaces\": -46.0, \"Residential\": 21.0, \"total_activity\": -1.93}, {\"Bundesland\": \"Bayern\", \"Meldedatum\": \"2020-04-04T00:00:00\", \"Neuinfektionen\": 1430.0, \"infections_cumulative\": 25227.0, \"date_50_cases\": \"2020-03-05T00:00:00\", \"days_since_50_cases\": 30.0, \"Ma\\u00dfnahmen\": null, \"absolute_growth\": 1430.0, \"cases_logratio\": 0.05835532720663217, \"num_measures\": 0.0, \"Retail And Recreation\": -73.0, \"Grocery And Pharmacy\": -18.0, \"Parks\": -10.0, \"Transit Stations\": -61.0, \"Workplaces\": -37.0, \"Residential\": 14.0, \"total_activity\": -1.85}, {\"Bundesland\": \"Bayern\", \"Meldedatum\": \"2020-04-05T00:00:00\", \"Neuinfektionen\": 691.0, \"infections_cumulative\": 25918.0, \"date_50_cases\": \"2020-03-05T00:00:00\", \"days_since_50_cases\": 31.0, \"Ma\\u00dfnahmen\": null, \"absolute_growth\": 691.0, \"cases_logratio\": 0.02702285849435171, \"num_measures\": 0.0, \"Retail And Recreation\": -65.0, \"Grocery And Pharmacy\": -19.0, \"Parks\": 21.0, \"Transit Stations\": -60.0, \"Workplaces\": -39.0, \"Residential\": 10.0, \"total_activity\": -1.52}, {\"Bundesland\": \"Bayern\", \"Meldedatum\": \"2020-04-06T00:00:00\", \"Neuinfektionen\": 1131.0, \"infections_cumulative\": 27049.0, \"date_50_cases\": \"2020-03-05T00:00:00\", \"days_since_50_cases\": 32.0, \"Ma\\u00dfnahmen\": null, \"absolute_growth\": 1131.0, \"cases_logratio\": 0.04271232801920277, \"num_measures\": 0.0, \"Retail And Recreation\": -56.0, \"Grocery And Pharmacy\": -8.0, \"Parks\": 22.0, \"Transit Stations\": -57.0, \"Workplaces\": -46.0, \"Residential\": 18.0, \"total_activity\": -1.27}, {\"Bundesland\": \"Bayern\", \"Meldedatum\": \"2020-04-07T00:00:00\", \"Neuinfektionen\": 1497.0, \"infections_cumulative\": 28546.0, \"date_50_cases\": \"2020-03-05T00:00:00\", \"days_since_50_cases\": 33.0, \"Ma\\u00dfnahmen\": null, \"absolute_growth\": 1497.0, \"cases_logratio\": 0.053866785175150866, \"num_measures\": 0.0, \"Retail And Recreation\": -56.0, \"Grocery And Pharmacy\": -6.0, \"Parks\": 37.0, \"Transit Stations\": -56.0, \"Workplaces\": -47.0, \"Residential\": 18.0, \"total_activity\": -1.1}, {\"Bundesland\": \"Bayern\", \"Meldedatum\": \"2020-04-08T00:00:00\", \"Neuinfektionen\": 1565.0, \"infections_cumulative\": 30111.0, \"date_50_cases\": \"2020-03-05T00:00:00\", \"days_since_50_cases\": 34.0, \"Ma\\u00dfnahmen\": null, \"absolute_growth\": 1565.0, \"cases_logratio\": 0.05337373229219722, \"num_measures\": 0.0, \"Retail And Recreation\": -55.0, \"Grocery And Pharmacy\": 7.0, \"Parks\": 27.0, \"Transit Stations\": -56.0, \"Workplaces\": -47.0, \"Residential\": 17.0, \"total_activity\": -1.07}, {\"Bundesland\": \"Bayern\", \"Meldedatum\": \"2020-04-09T00:00:00\", \"Neuinfektionen\": 1278.0, \"infections_cumulative\": 31389.0, \"date_50_cases\": \"2020-03-05T00:00:00\", \"days_since_50_cases\": 35.0, \"Ma\\u00dfnahmen\": null, \"absolute_growth\": 1278.0, \"cases_logratio\": 0.04156695956724654, \"num_measures\": 0.0, \"Retail And Recreation\": -53.0, \"Grocery And Pharmacy\": 14.0, \"Parks\": 8.0, \"Transit Stations\": -57.0, \"Workplaces\": -49.0, \"Residential\": 17.0, \"total_activity\": -1.2}, {\"Bundesland\": \"Bayern\", \"Meldedatum\": \"2020-04-10T00:00:00\", \"Neuinfektionen\": 920.0, \"infections_cumulative\": 32309.0, \"date_50_cases\": \"2020-03-05T00:00:00\", \"days_since_50_cases\": 36.0, \"Ma\\u00dfnahmen\": null, \"absolute_growth\": 920.0, \"cases_logratio\": 0.02888831612019338, \"num_measures\": 0.0, \"Retail And Recreation\": -82.0, \"Grocery And Pharmacy\": -93.0, \"Parks\": 39.0, \"Transit Stations\": -75.0, \"Workplaces\": -88.0, \"Residential\": 31.0, \"total_activity\": -2.68}, {\"Bundesland\": \"Bayern\", \"Meldedatum\": \"2020-04-11T00:00:00\", \"Neuinfektionen\": 790.0, \"infections_cumulative\": 33099.0, \"date_50_cases\": \"2020-03-05T00:00:00\", \"days_since_50_cases\": 37.0, \"Ma\\u00dfnahmen\": null, \"absolute_growth\": 790.0, \"cases_logratio\": 0.024157241259064932, \"num_measures\": 0.0, \"Retail And Recreation\": -67.0, \"Grocery And Pharmacy\": -2.0, \"Parks\": 5.0, \"Transit Stations\": -57.0, \"Workplaces\": -35.0, \"Residential\": 12.0, \"total_activity\": -1.44}, {\"Bundesland\": \"Bayern\", \"Meldedatum\": \"2020-04-12T00:00:00\", \"Neuinfektionen\": 414.0, \"infections_cumulative\": 33513.0, \"date_50_cases\": \"2020-03-05T00:00:00\", \"days_since_50_cases\": 38.0, \"Ma\\u00dfnahmen\": null, \"absolute_growth\": 414.0, \"cases_logratio\": 0.012430352810541834, \"num_measures\": 0.0, \"Retail And Recreation\": null, \"Grocery And Pharmacy\": null, \"Parks\": null, \"Transit Stations\": null, \"Workplaces\": null, \"Residential\": null, \"total_activity\": 0.0}, {\"Bundesland\": \"Bayern\", \"Meldedatum\": \"2020-04-13T00:00:00\", \"Neuinfektionen\": 458.0, \"infections_cumulative\": 33971.0, \"date_50_cases\": \"2020-03-05T00:00:00\", \"days_since_50_cases\": 39.0, \"Ma\\u00dfnahmen\": null, \"absolute_growth\": 458.0, \"cases_logratio\": 0.0135737962215714, \"num_measures\": 0.0, \"Retail And Recreation\": null, \"Grocery And Pharmacy\": null, \"Parks\": null, \"Transit Stations\": null, \"Workplaces\": null, \"Residential\": null, \"total_activity\": 0.0}, {\"Bundesland\": \"Bayern\", \"Meldedatum\": \"2020-04-14T00:00:00\", \"Neuinfektionen\": 737.0, \"infections_cumulative\": 34708.0, \"date_50_cases\": \"2020-03-05T00:00:00\", \"days_since_50_cases\": 40.0, \"Ma\\u00dfnahmen\": null, \"absolute_growth\": 737.0, \"cases_logratio\": 0.02146298845285166, \"num_measures\": 0.0, \"Retail And Recreation\": null, \"Grocery And Pharmacy\": null, \"Parks\": null, \"Transit Stations\": null, \"Workplaces\": null, \"Residential\": null, \"total_activity\": 0.0}, {\"Bundesland\": \"Bayern\", \"Meldedatum\": \"2020-04-15T00:00:00\", \"Neuinfektionen\": 909.0, \"infections_cumulative\": 35617.0, \"date_50_cases\": \"2020-03-05T00:00:00\", \"days_since_50_cases\": 41.0, \"Ma\\u00dfnahmen\": null, \"absolute_growth\": 909.0, \"cases_logratio\": 0.025852844036375444, \"num_measures\": 0.0, \"Retail And Recreation\": null, \"Grocery And Pharmacy\": null, \"Parks\": null, \"Transit Stations\": null, \"Workplaces\": null, \"Residential\": null, \"total_activity\": 0.0}, {\"Bundesland\": \"Bayern\", \"Meldedatum\": \"2020-04-16T00:00:00\", \"Neuinfektionen\": 866.0, \"infections_cumulative\": 36483.0, \"date_50_cases\": \"2020-03-05T00:00:00\", \"days_since_50_cases\": 42.0, \"Ma\\u00dfnahmen\": null, \"absolute_growth\": 866.0, \"cases_logratio\": 0.024023346699353354, \"num_measures\": 0.0, \"Retail And Recreation\": null, \"Grocery And Pharmacy\": null, \"Parks\": null, \"Transit Stations\": null, \"Workplaces\": null, \"Residential\": null, \"total_activity\": 0.0}, {\"Bundesland\": \"Bayern\", \"Meldedatum\": \"2020-04-17T00:00:00\", \"Neuinfektionen\": 804.0, \"infections_cumulative\": 37287.0, \"date_50_cases\": \"2020-03-05T00:00:00\", \"days_since_50_cases\": 43.0, \"Ma\\u00dfnahmen\": null, \"absolute_growth\": 804.0, \"cases_logratio\": 0.02179834176451223, \"num_measures\": 0.0, \"Retail And Recreation\": null, \"Grocery And Pharmacy\": null, \"Parks\": null, \"Transit Stations\": null, \"Workplaces\": null, \"Residential\": null, \"total_activity\": 0.0}, {\"Bundesland\": \"Bayern\", \"Meldedatum\": \"2020-04-18T00:00:00\", \"Neuinfektionen\": 478.0, \"infections_cumulative\": 37765.0, \"date_50_cases\": \"2020-03-05T00:00:00\", \"days_since_50_cases\": 44.0, \"Ma\\u00dfnahmen\": null, \"absolute_growth\": 478.0, \"cases_logratio\": 0.012738007333926049, \"num_measures\": 0.0, \"Retail And Recreation\": null, \"Grocery And Pharmacy\": null, \"Parks\": null, \"Transit Stations\": null, \"Workplaces\": null, \"Residential\": null, \"total_activity\": 0.0}, {\"Bundesland\": \"Bayern\", \"Meldedatum\": \"2020-04-19T00:00:00\", \"Neuinfektionen\": 398.0, \"infections_cumulative\": 38163.0, \"date_50_cases\": \"2020-03-05T00:00:00\", \"days_since_50_cases\": 45.0, \"Ma\\u00dfnahmen\": null, \"absolute_growth\": 398.0, \"cases_logratio\": 0.010483712076773344, \"num_measures\": 0.0, \"Retail And Recreation\": null, \"Grocery And Pharmacy\": null, \"Parks\": null, \"Transit Stations\": null, \"Workplaces\": null, \"Residential\": null, \"total_activity\": 0.0}, {\"Bundesland\": \"Bayern\", \"Meldedatum\": \"2020-04-20T00:00:00\", \"Neuinfektionen\": 402.0, \"infections_cumulative\": 38565.0, \"date_50_cases\": \"2020-03-05T00:00:00\", \"days_since_50_cases\": 46.0, \"Ma\\u00dfnahmen\": null, \"absolute_growth\": 402.0, \"cases_logratio\": 0.010478669543777741, \"num_measures\": 0.0, \"Retail And Recreation\": null, \"Grocery And Pharmacy\": null, \"Parks\": null, \"Transit Stations\": null, \"Workplaces\": null, \"Residential\": null, \"total_activity\": 0.0}, {\"Bundesland\": \"Bayern\", \"Meldedatum\": \"2020-04-21T00:00:00\", \"Neuinfektionen\": 510.0, \"infections_cumulative\": 39075.0, \"date_50_cases\": \"2020-03-05T00:00:00\", \"days_since_50_cases\": 47.0, \"Ma\\u00dfnahmen\": null, \"absolute_growth\": 510.0, \"cases_logratio\": 0.013137746921579208, \"num_measures\": 0.0, \"Retail And Recreation\": null, \"Grocery And Pharmacy\": null, \"Parks\": null, \"Transit Stations\": null, \"Workplaces\": null, \"Residential\": null, \"total_activity\": 0.0}, {\"Bundesland\": \"Bayern\", \"Meldedatum\": \"2020-04-22T00:00:00\", \"Neuinfektionen\": 568.0, \"infections_cumulative\": 39643.0, \"date_50_cases\": \"2020-03-05T00:00:00\", \"days_since_50_cases\": 48.0, \"Ma\\u00dfnahmen\": null, \"absolute_growth\": 568.0, \"cases_logratio\": 0.014431511420745835, \"num_measures\": 0.0, \"Retail And Recreation\": null, \"Grocery And Pharmacy\": null, \"Parks\": null, \"Transit Stations\": null, \"Workplaces\": null, \"Residential\": null, \"total_activity\": 0.0}, {\"Bundesland\": \"Bayern\", \"Meldedatum\": \"2020-04-23T00:00:00\", \"Neuinfektionen\": 280.0, \"infections_cumulative\": 39923.0, \"date_50_cases\": \"2020-03-05T00:00:00\", \"days_since_50_cases\": 49.0, \"Ma\\u00dfnahmen\": null, \"absolute_growth\": 280.0, \"cases_logratio\": 0.007038211191934707, \"num_measures\": 0.0, \"Retail And Recreation\": null, \"Grocery And Pharmacy\": null, \"Parks\": null, \"Transit Stations\": null, \"Workplaces\": null, \"Residential\": null, \"total_activity\": 0.0}]}}, {\"mode\": \"vega-lite\"});\n",
       "</script>"
      ],
      "text/plain": [
       "alt.HConcatChart(...)"
      ]
     },
     "execution_count": 21,
     "metadata": {},
     "output_type": "execute_result"
    }
   ],
   "source": [
    "plot_activity_details(\n",
    "    df=plot_df,\n",
    "    state=\"Bayern\",\n",
    "    x_var=\"Meldedatum\",\n",
    "    x_title=\"Date\",\n",
    "    activity_cols=list(percentage_change_cols_mapper.values()),\n",
    "    max_activity=max_activity,\n",
    ")"
   ]
  },
  {
   "cell_type": "code",
   "execution_count": 25,
   "metadata": {
    "ExecuteTime": {
     "end_time": "2020-04-24T19:16:41.413587Z",
     "start_time": "2020-04-24T19:16:41.382317Z"
    }
   },
   "outputs": [],
   "source": [
    "# TODO: Create small plots with the infections + activity summary for all states\n",
    "combined_plots = []\n",
    "sub_combined = []\n",
    "for state in enumerate(plot_df[\"Bundesland\"].unique()):\n",
    "    pass"
   ]
  },
  {
   "cell_type": "code",
   "execution_count": null,
   "metadata": {},
   "outputs": [],
   "source": []
  }
 ],
 "metadata": {
  "kernelspec": {
   "display_name": "Python [conda env:ds-base]",
   "language": "python",
   "name": "conda-env-ds-base-py"
  },
  "language_info": {
   "codemirror_mode": {
    "name": "ipython",
    "version": 3
   },
   "file_extension": ".py",
   "mimetype": "text/x-python",
   "name": "python",
   "nbconvert_exporter": "python",
   "pygments_lexer": "ipython3",
   "version": "3.7.3"
  },
  "toc": {
   "base_numbering": 1,
   "nav_menu": {},
   "number_sections": true,
   "sideBar": true,
   "skip_h1_title": false,
   "title_cell": "Table of Contents",
   "title_sidebar": "Contents",
   "toc_cell": false,
   "toc_position": {},
   "toc_section_display": true,
   "toc_window_display": false
  }
 },
 "nbformat": 4,
 "nbformat_minor": 4
}
